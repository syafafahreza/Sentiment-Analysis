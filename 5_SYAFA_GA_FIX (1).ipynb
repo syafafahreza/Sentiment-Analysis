{
  "cells": [
    {
      "cell_type": "markdown",
      "metadata": {
        "id": "lGASpAu-1x2h"
      },
      "source": [
        "#LIBRARY"
      ]
    },
    {
      "cell_type": "code",
      "execution_count": null,
      "metadata": {
        "id": "VkO5ZEtP19lg"
      },
      "outputs": [],
      "source": [
        "%%capture\n",
        "!pip install tensorflow"
      ]
    },
    {
      "cell_type": "code",
      "execution_count": null,
      "metadata": {
        "id": "driZPGRb2OCx"
      },
      "outputs": [],
      "source": [
        "import pandas as pd\n",
        "import numpy as np\n",
        "from sklearn.preprocessing import LabelEncoder\n",
        "import tensorflow as tf\n",
        "from tensorflow import keras\n",
        "from sklearn.model_selection import train_test_split\n"
      ]
    },
    {
      "cell_type": "markdown",
      "metadata": {
        "id": "rxnxIMVr149p"
      },
      "source": [
        "#LOAD DATA"
      ]
    },
    {
      "cell_type": "code",
      "execution_count": null,
      "metadata": {
        "colab": {
          "base_uri": "https://localhost:8080/"
        },
        "id": "m7zIQacP2Q-d",
        "outputId": "2f3077dc-e5c3-478a-dd80-8050cf77ed85"
      },
      "outputs": [
        {
          "output_type": "stream",
          "name": "stdout",
          "text": [
            "Downloading...\n",
            "From: https://drive.google.com/uc?id=1rD-_mHaqds2plYf3R20xe42NKKAEku49\n",
            "To: /content/databarulagi.csv\n",
            "100% 48.8M/48.8M [00:01<00:00, 45.4MB/s]\n"
          ]
        }
      ],
      "source": [
        "from google.colab import drive\n",
        "!gdown \"1rD-_mHaqds2plYf3R20xe42NKKAEku49\""
      ]
    },
    {
      "cell_type": "code",
      "execution_count": null,
      "metadata": {
        "id": "s-YQRMg52rdc"
      },
      "outputs": [],
      "source": [
        "# Load Data\n",
        "df = pd.read_csv(\"databarulagi.csv\")"
      ]
    },
    {
      "cell_type": "code",
      "execution_count": null,
      "metadata": {
        "id": "8Xs-RGBl2ty2"
      },
      "outputs": [],
      "source": [
        "df.dropna(inplace=True)"
      ]
    },
    {
      "cell_type": "code",
      "source": [
        "df = df[df['sentimen'].isin([0, 2])]"
      ],
      "metadata": {
        "id": "9gpElLY91oGI"
      },
      "execution_count": null,
      "outputs": []
    },
    {
      "cell_type": "code",
      "execution_count": null,
      "metadata": {
        "colab": {
          "base_uri": "https://localhost:8080/",
          "height": 206
        },
        "id": "IhH7egl42unu",
        "outputId": "dc1f4423-afd0-46cf-dc83-cc1fed8265d8"
      },
      "outputs": [
        {
          "output_type": "execute_result",
          "data": {
            "text/plain": [
              "                                                 Stemmed  sentimen\n",
              "18616                              viral generasi bohong         0\n",
              "18617   rusak nama anies baswedan jelek jelek nama anies         0\n",
              "18618                                            bengkak         0\n",
              "18619                                 kafir halang allah         0\n",
              "18620  wajib presiden rakyat indonesia dukung preside...         0"
            ],
            "text/html": [
              "\n",
              "  <div id=\"df-f3008081-1a08-4a58-8dd6-e5dbffdeadc9\" class=\"colab-df-container\">\n",
              "    <div>\n",
              "<style scoped>\n",
              "    .dataframe tbody tr th:only-of-type {\n",
              "        vertical-align: middle;\n",
              "    }\n",
              "\n",
              "    .dataframe tbody tr th {\n",
              "        vertical-align: top;\n",
              "    }\n",
              "\n",
              "    .dataframe thead th {\n",
              "        text-align: right;\n",
              "    }\n",
              "</style>\n",
              "<table border=\"1\" class=\"dataframe\">\n",
              "  <thead>\n",
              "    <tr style=\"text-align: right;\">\n",
              "      <th></th>\n",
              "      <th>Stemmed</th>\n",
              "      <th>sentimen</th>\n",
              "    </tr>\n",
              "  </thead>\n",
              "  <tbody>\n",
              "    <tr>\n",
              "      <th>18616</th>\n",
              "      <td>viral generasi bohong</td>\n",
              "      <td>0</td>\n",
              "    </tr>\n",
              "    <tr>\n",
              "      <th>18617</th>\n",
              "      <td>rusak nama anies baswedan jelek jelek nama anies</td>\n",
              "      <td>0</td>\n",
              "    </tr>\n",
              "    <tr>\n",
              "      <th>18618</th>\n",
              "      <td>bengkak</td>\n",
              "      <td>0</td>\n",
              "    </tr>\n",
              "    <tr>\n",
              "      <th>18619</th>\n",
              "      <td>kafir halang allah</td>\n",
              "      <td>0</td>\n",
              "    </tr>\n",
              "    <tr>\n",
              "      <th>18620</th>\n",
              "      <td>wajib presiden rakyat indonesia dukung preside...</td>\n",
              "      <td>0</td>\n",
              "    </tr>\n",
              "  </tbody>\n",
              "</table>\n",
              "</div>\n",
              "    <div class=\"colab-df-buttons\">\n",
              "\n",
              "  <div class=\"colab-df-container\">\n",
              "    <button class=\"colab-df-convert\" onclick=\"convertToInteractive('df-f3008081-1a08-4a58-8dd6-e5dbffdeadc9')\"\n",
              "            title=\"Convert this dataframe to an interactive table.\"\n",
              "            style=\"display:none;\">\n",
              "\n",
              "  <svg xmlns=\"http://www.w3.org/2000/svg\" height=\"24px\" viewBox=\"0 -960 960 960\">\n",
              "    <path d=\"M120-120v-720h720v720H120Zm60-500h600v-160H180v160Zm220 220h160v-160H400v160Zm0 220h160v-160H400v160ZM180-400h160v-160H180v160Zm440 0h160v-160H620v160ZM180-180h160v-160H180v160Zm440 0h160v-160H620v160Z\"/>\n",
              "  </svg>\n",
              "    </button>\n",
              "\n",
              "  <style>\n",
              "    .colab-df-container {\n",
              "      display:flex;\n",
              "      gap: 12px;\n",
              "    }\n",
              "\n",
              "    .colab-df-convert {\n",
              "      background-color: #E8F0FE;\n",
              "      border: none;\n",
              "      border-radius: 50%;\n",
              "      cursor: pointer;\n",
              "      display: none;\n",
              "      fill: #1967D2;\n",
              "      height: 32px;\n",
              "      padding: 0 0 0 0;\n",
              "      width: 32px;\n",
              "    }\n",
              "\n",
              "    .colab-df-convert:hover {\n",
              "      background-color: #E2EBFA;\n",
              "      box-shadow: 0px 1px 2px rgba(60, 64, 67, 0.3), 0px 1px 3px 1px rgba(60, 64, 67, 0.15);\n",
              "      fill: #174EA6;\n",
              "    }\n",
              "\n",
              "    .colab-df-buttons div {\n",
              "      margin-bottom: 4px;\n",
              "    }\n",
              "\n",
              "    [theme=dark] .colab-df-convert {\n",
              "      background-color: #3B4455;\n",
              "      fill: #D2E3FC;\n",
              "    }\n",
              "\n",
              "    [theme=dark] .colab-df-convert:hover {\n",
              "      background-color: #434B5C;\n",
              "      box-shadow: 0px 1px 3px 1px rgba(0, 0, 0, 0.15);\n",
              "      filter: drop-shadow(0px 1px 2px rgba(0, 0, 0, 0.3));\n",
              "      fill: #FFFFFF;\n",
              "    }\n",
              "  </style>\n",
              "\n",
              "    <script>\n",
              "      const buttonEl =\n",
              "        document.querySelector('#df-f3008081-1a08-4a58-8dd6-e5dbffdeadc9 button.colab-df-convert');\n",
              "      buttonEl.style.display =\n",
              "        google.colab.kernel.accessAllowed ? 'block' : 'none';\n",
              "\n",
              "      async function convertToInteractive(key) {\n",
              "        const element = document.querySelector('#df-f3008081-1a08-4a58-8dd6-e5dbffdeadc9');\n",
              "        const dataTable =\n",
              "          await google.colab.kernel.invokeFunction('convertToInteractive',\n",
              "                                                    [key], {});\n",
              "        if (!dataTable) return;\n",
              "\n",
              "        const docLinkHtml = 'Like what you see? Visit the ' +\n",
              "          '<a target=\"_blank\" href=https://colab.research.google.com/notebooks/data_table.ipynb>data table notebook</a>'\n",
              "          + ' to learn more about interactive tables.';\n",
              "        element.innerHTML = '';\n",
              "        dataTable['output_type'] = 'display_data';\n",
              "        await google.colab.output.renderOutput(dataTable, element);\n",
              "        const docLink = document.createElement('div');\n",
              "        docLink.innerHTML = docLinkHtml;\n",
              "        element.appendChild(docLink);\n",
              "      }\n",
              "    </script>\n",
              "  </div>\n",
              "\n",
              "\n",
              "<div id=\"df-798d4905-9eb4-48b6-af22-0cd3b57309f6\">\n",
              "  <button class=\"colab-df-quickchart\" onclick=\"quickchart('df-798d4905-9eb4-48b6-af22-0cd3b57309f6')\"\n",
              "            title=\"Suggest charts\"\n",
              "            style=\"display:none;\">\n",
              "\n",
              "<svg xmlns=\"http://www.w3.org/2000/svg\" height=\"24px\"viewBox=\"0 0 24 24\"\n",
              "     width=\"24px\">\n",
              "    <g>\n",
              "        <path d=\"M19 3H5c-1.1 0-2 .9-2 2v14c0 1.1.9 2 2 2h14c1.1 0 2-.9 2-2V5c0-1.1-.9-2-2-2zM9 17H7v-7h2v7zm4 0h-2V7h2v10zm4 0h-2v-4h2v4z\"/>\n",
              "    </g>\n",
              "</svg>\n",
              "  </button>\n",
              "\n",
              "<style>\n",
              "  .colab-df-quickchart {\n",
              "      --bg-color: #E8F0FE;\n",
              "      --fill-color: #1967D2;\n",
              "      --hover-bg-color: #E2EBFA;\n",
              "      --hover-fill-color: #174EA6;\n",
              "      --disabled-fill-color: #AAA;\n",
              "      --disabled-bg-color: #DDD;\n",
              "  }\n",
              "\n",
              "  [theme=dark] .colab-df-quickchart {\n",
              "      --bg-color: #3B4455;\n",
              "      --fill-color: #D2E3FC;\n",
              "      --hover-bg-color: #434B5C;\n",
              "      --hover-fill-color: #FFFFFF;\n",
              "      --disabled-bg-color: #3B4455;\n",
              "      --disabled-fill-color: #666;\n",
              "  }\n",
              "\n",
              "  .colab-df-quickchart {\n",
              "    background-color: var(--bg-color);\n",
              "    border: none;\n",
              "    border-radius: 50%;\n",
              "    cursor: pointer;\n",
              "    display: none;\n",
              "    fill: var(--fill-color);\n",
              "    height: 32px;\n",
              "    padding: 0;\n",
              "    width: 32px;\n",
              "  }\n",
              "\n",
              "  .colab-df-quickchart:hover {\n",
              "    background-color: var(--hover-bg-color);\n",
              "    box-shadow: 0 1px 2px rgba(60, 64, 67, 0.3), 0 1px 3px 1px rgba(60, 64, 67, 0.15);\n",
              "    fill: var(--button-hover-fill-color);\n",
              "  }\n",
              "\n",
              "  .colab-df-quickchart-complete:disabled,\n",
              "  .colab-df-quickchart-complete:disabled:hover {\n",
              "    background-color: var(--disabled-bg-color);\n",
              "    fill: var(--disabled-fill-color);\n",
              "    box-shadow: none;\n",
              "  }\n",
              "\n",
              "  .colab-df-spinner {\n",
              "    border: 2px solid var(--fill-color);\n",
              "    border-color: transparent;\n",
              "    border-bottom-color: var(--fill-color);\n",
              "    animation:\n",
              "      spin 1s steps(1) infinite;\n",
              "  }\n",
              "\n",
              "  @keyframes spin {\n",
              "    0% {\n",
              "      border-color: transparent;\n",
              "      border-bottom-color: var(--fill-color);\n",
              "      border-left-color: var(--fill-color);\n",
              "    }\n",
              "    20% {\n",
              "      border-color: transparent;\n",
              "      border-left-color: var(--fill-color);\n",
              "      border-top-color: var(--fill-color);\n",
              "    }\n",
              "    30% {\n",
              "      border-color: transparent;\n",
              "      border-left-color: var(--fill-color);\n",
              "      border-top-color: var(--fill-color);\n",
              "      border-right-color: var(--fill-color);\n",
              "    }\n",
              "    40% {\n",
              "      border-color: transparent;\n",
              "      border-right-color: var(--fill-color);\n",
              "      border-top-color: var(--fill-color);\n",
              "    }\n",
              "    60% {\n",
              "      border-color: transparent;\n",
              "      border-right-color: var(--fill-color);\n",
              "    }\n",
              "    80% {\n",
              "      border-color: transparent;\n",
              "      border-right-color: var(--fill-color);\n",
              "      border-bottom-color: var(--fill-color);\n",
              "    }\n",
              "    90% {\n",
              "      border-color: transparent;\n",
              "      border-bottom-color: var(--fill-color);\n",
              "    }\n",
              "  }\n",
              "</style>\n",
              "\n",
              "  <script>\n",
              "    async function quickchart(key) {\n",
              "      const quickchartButtonEl =\n",
              "        document.querySelector('#' + key + ' button');\n",
              "      quickchartButtonEl.disabled = true;  // To prevent multiple clicks.\n",
              "      quickchartButtonEl.classList.add('colab-df-spinner');\n",
              "      try {\n",
              "        const charts = await google.colab.kernel.invokeFunction(\n",
              "            'suggestCharts', [key], {});\n",
              "      } catch (error) {\n",
              "        console.error('Error during call to suggestCharts:', error);\n",
              "      }\n",
              "      quickchartButtonEl.classList.remove('colab-df-spinner');\n",
              "      quickchartButtonEl.classList.add('colab-df-quickchart-complete');\n",
              "    }\n",
              "    (() => {\n",
              "      let quickchartButtonEl =\n",
              "        document.querySelector('#df-798d4905-9eb4-48b6-af22-0cd3b57309f6 button');\n",
              "      quickchartButtonEl.style.display =\n",
              "        google.colab.kernel.accessAllowed ? 'block' : 'none';\n",
              "    })();\n",
              "  </script>\n",
              "</div>\n",
              "    </div>\n",
              "  </div>\n"
            ]
          },
          "metadata": {},
          "execution_count": 7
        }
      ],
      "source": [
        "df_copy = df[['Stemmed','sentimen']]\n",
        "df_copy.head()"
      ]
    },
    {
      "cell_type": "code",
      "execution_count": null,
      "metadata": {
        "id": "ftahN2hb3Ay0"
      },
      "outputs": [],
      "source": [
        "review = df[\"Stemmed\"]\n",
        "label = df['sentimen']"
      ]
    },
    {
      "cell_type": "code",
      "execution_count": null,
      "metadata": {
        "colab": {
          "base_uri": "https://localhost:8080/",
          "height": 75
        },
        "id": "iSTXQfi43EFh",
        "outputId": "0af17fdd-14de-4833-ef16-c4c70b1e47e0"
      },
      "outputs": [
        {
          "output_type": "execute_result",
          "data": {
            "text/plain": [
              "TfidfVectorizer(max_features=5000, min_df=7, ngram_range=(1, 2), norm='l1')"
            ],
            "text/html": [
              "<style>#sk-container-id-1 {color: black;background-color: white;}#sk-container-id-1 pre{padding: 0;}#sk-container-id-1 div.sk-toggleable {background-color: white;}#sk-container-id-1 label.sk-toggleable__label {cursor: pointer;display: block;width: 100%;margin-bottom: 0;padding: 0.3em;box-sizing: border-box;text-align: center;}#sk-container-id-1 label.sk-toggleable__label-arrow:before {content: \"▸\";float: left;margin-right: 0.25em;color: #696969;}#sk-container-id-1 label.sk-toggleable__label-arrow:hover:before {color: black;}#sk-container-id-1 div.sk-estimator:hover label.sk-toggleable__label-arrow:before {color: black;}#sk-container-id-1 div.sk-toggleable__content {max-height: 0;max-width: 0;overflow: hidden;text-align: left;background-color: #f0f8ff;}#sk-container-id-1 div.sk-toggleable__content pre {margin: 0.2em;color: black;border-radius: 0.25em;background-color: #f0f8ff;}#sk-container-id-1 input.sk-toggleable__control:checked~div.sk-toggleable__content {max-height: 200px;max-width: 100%;overflow: auto;}#sk-container-id-1 input.sk-toggleable__control:checked~label.sk-toggleable__label-arrow:before {content: \"▾\";}#sk-container-id-1 div.sk-estimator input.sk-toggleable__control:checked~label.sk-toggleable__label {background-color: #d4ebff;}#sk-container-id-1 div.sk-label input.sk-toggleable__control:checked~label.sk-toggleable__label {background-color: #d4ebff;}#sk-container-id-1 input.sk-hidden--visually {border: 0;clip: rect(1px 1px 1px 1px);clip: rect(1px, 1px, 1px, 1px);height: 1px;margin: -1px;overflow: hidden;padding: 0;position: absolute;width: 1px;}#sk-container-id-1 div.sk-estimator {font-family: monospace;background-color: #f0f8ff;border: 1px dotted black;border-radius: 0.25em;box-sizing: border-box;margin-bottom: 0.5em;}#sk-container-id-1 div.sk-estimator:hover {background-color: #d4ebff;}#sk-container-id-1 div.sk-parallel-item::after {content: \"\";width: 100%;border-bottom: 1px solid gray;flex-grow: 1;}#sk-container-id-1 div.sk-label:hover label.sk-toggleable__label {background-color: #d4ebff;}#sk-container-id-1 div.sk-serial::before {content: \"\";position: absolute;border-left: 1px solid gray;box-sizing: border-box;top: 0;bottom: 0;left: 50%;z-index: 0;}#sk-container-id-1 div.sk-serial {display: flex;flex-direction: column;align-items: center;background-color: white;padding-right: 0.2em;padding-left: 0.2em;position: relative;}#sk-container-id-1 div.sk-item {position: relative;z-index: 1;}#sk-container-id-1 div.sk-parallel {display: flex;align-items: stretch;justify-content: center;background-color: white;position: relative;}#sk-container-id-1 div.sk-item::before, #sk-container-id-1 div.sk-parallel-item::before {content: \"\";position: absolute;border-left: 1px solid gray;box-sizing: border-box;top: 0;bottom: 0;left: 50%;z-index: -1;}#sk-container-id-1 div.sk-parallel-item {display: flex;flex-direction: column;z-index: 1;position: relative;background-color: white;}#sk-container-id-1 div.sk-parallel-item:first-child::after {align-self: flex-end;width: 50%;}#sk-container-id-1 div.sk-parallel-item:last-child::after {align-self: flex-start;width: 50%;}#sk-container-id-1 div.sk-parallel-item:only-child::after {width: 0;}#sk-container-id-1 div.sk-dashed-wrapped {border: 1px dashed gray;margin: 0 0.4em 0.5em 0.4em;box-sizing: border-box;padding-bottom: 0.4em;background-color: white;}#sk-container-id-1 div.sk-label label {font-family: monospace;font-weight: bold;display: inline-block;line-height: 1.2em;}#sk-container-id-1 div.sk-label-container {text-align: center;}#sk-container-id-1 div.sk-container {/* jupyter's `normalize.less` sets `[hidden] { display: none; }` but bootstrap.min.css set `[hidden] { display: none !important; }` so we also need the `!important` here to be able to override the default hidden behavior on the sphinx rendered scikit-learn.org. See: https://github.com/scikit-learn/scikit-learn/issues/21755 */display: inline-block !important;position: relative;}#sk-container-id-1 div.sk-text-repr-fallback {display: none;}</style><div id=\"sk-container-id-1\" class=\"sk-top-container\"><div class=\"sk-text-repr-fallback\"><pre>TfidfVectorizer(max_features=5000, min_df=7, ngram_range=(1, 2), norm=&#x27;l1&#x27;)</pre><b>In a Jupyter environment, please rerun this cell to show the HTML representation or trust the notebook. <br />On GitHub, the HTML representation is unable to render, please try loading this page with nbviewer.org.</b></div><div class=\"sk-container\" hidden><div class=\"sk-item\"><div class=\"sk-estimator sk-toggleable\"><input class=\"sk-toggleable__control sk-hidden--visually\" id=\"sk-estimator-id-1\" type=\"checkbox\" checked><label for=\"sk-estimator-id-1\" class=\"sk-toggleable__label sk-toggleable__label-arrow\">TfidfVectorizer</label><div class=\"sk-toggleable__content\"><pre>TfidfVectorizer(max_features=5000, min_df=7, ngram_range=(1, 2), norm=&#x27;l1&#x27;)</pre></div></div></div></div></div>"
            ]
          },
          "metadata": {},
          "execution_count": 9
        }
      ],
      "source": [
        "from sklearn.feature_extraction.text import TfidfVectorizer\n",
        "\n",
        "vectors= TfidfVectorizer(min_df=7, ngram_range=(1,2), max_features = 5000, norm='l1')\n",
        "vectors"
      ]
    },
    {
      "cell_type": "code",
      "execution_count": null,
      "metadata": {
        "colab": {
          "base_uri": "https://localhost:8080/"
        },
        "id": "MUuW_PXr3Nj3",
        "outputId": "0f4f6a4c-e19e-4e75-c199-1d15f6d0b9d9"
      },
      "outputs": [
        {
          "output_type": "execute_result",
          "data": {
            "text/plain": [
              "<37391x5000 sparse matrix of type '<class 'numpy.float64'>'\n",
              "\twith 416095 stored elements in Compressed Sparse Row format>"
            ]
          },
          "metadata": {},
          "execution_count": 10
        }
      ],
      "source": [
        "tfidf = vectors.fit_transform(review.astype(str))\n",
        "tfidf"
      ]
    },
    {
      "cell_type": "code",
      "execution_count": null,
      "metadata": {
        "id": "HmNPBmCy3Orf"
      },
      "outputs": [],
      "source": [
        "df_tfidf = tfidf.copy()"
      ]
    },
    {
      "cell_type": "code",
      "execution_count": null,
      "metadata": {
        "colab": {
          "base_uri": "https://localhost:8080/"
        },
        "id": "hOL88B9CnZkk",
        "outputId": "b5881db2-5070-4bf9-d0d6-30249d0f6d00"
      },
      "outputs": [
        {
          "output_type": "execute_result",
          "data": {
            "text/plain": [
              "2    21866\n",
              "0    15525\n",
              "Name: sentimen, dtype: int64"
            ]
          },
          "metadata": {},
          "execution_count": 12
        }
      ],
      "source": [
        "label.value_counts()"
      ]
    },
    {
      "cell_type": "code",
      "execution_count": null,
      "metadata": {
        "id": "hknJfz1C069u"
      },
      "outputs": [],
      "source": [
        "x = tfidf.copy()\n",
        "y = df['sentimen']"
      ]
    },
    {
      "cell_type": "code",
      "execution_count": null,
      "metadata": {
        "id": "EDxIlmdR3gwg"
      },
      "outputs": [],
      "source": [
        "from sklearn.model_selection import train_test_split\n",
        "x_train, x_test, y_train, y_test = train_test_split(x,y, test_size = 0.1, random_state=42)"
      ]
    },
    {
      "cell_type": "code",
      "execution_count": null,
      "metadata": {
        "colab": {
          "base_uri": "https://localhost:8080/"
        },
        "id": "ScqfoIJr3iU9",
        "outputId": "1ad221b5-e6c4-42cf-a3fc-4a09b0ba1907"
      },
      "outputs": [
        {
          "output_type": "execute_result",
          "data": {
            "text/plain": [
              "2    19688\n",
              "0    13963\n",
              "Name: sentimen, dtype: int64"
            ]
          },
          "metadata": {},
          "execution_count": 15
        }
      ],
      "source": [
        "y_train.value_counts()"
      ]
    },
    {
      "cell_type": "code",
      "execution_count": null,
      "metadata": {
        "colab": {
          "base_uri": "https://localhost:8080/"
        },
        "id": "BDy7gmE2noNC",
        "outputId": "5d6cfcd8-f1ac-41d2-c77a-58ffd8e89f76"
      },
      "outputs": [
        {
          "output_type": "execute_result",
          "data": {
            "text/plain": [
              "2    2178\n",
              "0    1562\n",
              "Name: sentimen, dtype: int64"
            ]
          },
          "metadata": {},
          "execution_count": 16
        }
      ],
      "source": [
        "y_test.value_counts()"
      ]
    },
    {
      "cell_type": "code",
      "execution_count": null,
      "metadata": {
        "colab": {
          "base_uri": "https://localhost:8080/"
        },
        "id": "iYivZdQ-wydO",
        "outputId": "e85068c5-d8de-441e-83b5-c9668e144384"
      },
      "outputs": [
        {
          "output_type": "stream",
          "name": "stdout",
          "text": [
            "(33651, 5000)\n"
          ]
        }
      ],
      "source": [
        "print(x_train.shape)"
      ]
    },
    {
      "cell_type": "code",
      "execution_count": null,
      "metadata": {
        "id": "S9n8l_6k1tZ-"
      },
      "outputs": [],
      "source": [
        "from gensim.models import Word2Vec\n",
        "from imblearn.over_sampling import SMOTE\n",
        "from sklearn.metrics import classification_report, confusion_matrix, accuracy_score, f1_score, precision_score, recall_score\n",
        "\n",
        "from sklearn.preprocessing import OneHotEncoder\n",
        "from sklearn.metrics import roc_auc_score"
      ]
    },
    {
      "cell_type": "code",
      "execution_count": null,
      "metadata": {
        "colab": {
          "base_uri": "https://localhost:8080/"
        },
        "id": "KP0NQd5VyaMu",
        "outputId": "ed40c8f7-75cc-4bc3-e332-f59c1de27566"
      },
      "outputs": [
        {
          "output_type": "stream",
          "name": "stdout",
          "text": [
            "Downloading...\n",
            "From: https://drive.google.com/uc?id=1lOAO2PE1vm-CWg1dGfv8b4X12vWirLFU\n",
            "To: /content/w2v_berita.model\n",
            "100% 8.23M/8.23M [00:00<00:00, 36.1MB/s]\n",
            "Downloading...\n",
            "From (original): https://drive.google.com/uc?id=1kyNC3SOjerhvGhFwsV3B3AdOUqOBBm62\n",
            "From (redirected): https://drive.google.com/uc?id=1kyNC3SOjerhvGhFwsV3B3AdOUqOBBm62&confirm=t&uuid=2d874cbe-d9a2-4047-8cd9-0b989b503f3e\n",
            "To: /content/w2v_berita.model.wv.vectors.npy\n",
            "100% 180M/180M [00:02<00:00, 64.2MB/s]\n",
            "Downloading...\n",
            "From (original): https://drive.google.com/uc?id=11gE4o7nrT5x6FSw-cUG-XoY3FIEi52vi\n",
            "From (redirected): https://drive.google.com/uc?id=11gE4o7nrT5x6FSw-cUG-XoY3FIEi52vi&confirm=t&uuid=e9dc458a-bdc0-4edf-b095-ce7ceeb85897\n",
            "To: /content/w2v_berita.model.syn1neg.npy\n",
            "100% 180M/180M [00:03<00:00, 49.9MB/s]\n"
          ]
        }
      ],
      "source": [
        "from google.colab import drive\n",
        "#!gdown \"1UbgKJqGaBo0nUjB1KdGszVdUpZXtciOh\"\n",
        "#!gdown \"1CUkGeGAxJIX_ObHzKSdS2epjYSsflmBJ\"\n",
        "#!gdown \"1gFNEEIrwwlsoxi0FNKVJLkrijhzncPmA\"\n",
        "#berita\n",
        "!gdown \"1lOAO2PE1vm-CWg1dGfv8b4X12vWirLFU\"\n",
        "!gdown \"1kyNC3SOjerhvGhFwsV3B3AdOUqOBBm62\"\n",
        "!gdown \"11gE4o7nrT5x6FSw-cUG-XoY3FIEi52vi\""
      ]
    },
    {
      "cell_type": "code",
      "execution_count": null,
      "metadata": {
        "id": "UAy8WWRW2NWW"
      },
      "outputs": [],
      "source": [
        "w2v_model = Word2Vec.load('w2v_berita.model')"
      ]
    },
    {
      "cell_type": "code",
      "execution_count": null,
      "metadata": {
        "id": "SaObJCwa311W"
      },
      "outputs": [],
      "source": [
        "def feature_expansion(df,feature):\n",
        "    for col in tqdm(df.columns): #loop per kolom\n",
        "        try:\n",
        "            sim_word = w2v_model.wv.similar_by_word(col, topn = 1) #Mencari similarity berdasarkan nilai n\n",
        "        except:\n",
        "            sim_word = []\n",
        "        if sim_word != []: #jika similarity tidak kosong\n",
        "            for term in [sim_word[i][0] for i in range(len(sim_word))]: #loop per-word yang ada di Similarity\n",
        "                if term in feature:\n",
        "                    #untuk semua kolom yang mempunyai nilai 0 di kolom, tetapi mempunyai nilai yang bukan 0 pada kolom term\n",
        "                    #nilainya diganti dengan nilai kolom term yang mempunyai nilai bukan 0\n",
        "                    df[col][(df[col]==0) & (df[term]!=0)] = df[term][(df[col]==0) & (df[term]!=0)]\n",
        "    return df"
      ]
    },
    {
      "cell_type": "code",
      "execution_count": null,
      "metadata": {
        "id": "yCfc_Z9p3--g"
      },
      "outputs": [],
      "source": [
        "feature_ef = vectors.get_feature_names_out()"
      ]
    },
    {
      "cell_type": "code",
      "execution_count": null,
      "metadata": {
        "id": "OHeAfE6S4OT4"
      },
      "outputs": [],
      "source": [
        "# Membuat dataframe data test & train\n",
        "df_x_train = pd.DataFrame(x_train.todense(), columns = feature_ef)\n",
        "df_x_test = pd.DataFrame(x_test.todense(), columns = feature_ef)"
      ]
    },
    {
      "cell_type": "code",
      "execution_count": null,
      "metadata": {
        "id": "zg-xLoNG4TRo",
        "colab": {
          "base_uri": "https://localhost:8080/"
        },
        "outputId": "fdfa4247-a457-4015-da08-7bb2cac4ab25"
      },
      "outputs": [
        {
          "output_type": "stream",
          "name": "stderr",
          "text": [
            "100%|██████████| 5000/5000 [01:12<00:00, 69.30it/s]\n"
          ]
        }
      ],
      "source": [
        "from tqdm import tqdm\n",
        "dfexp_x_train= feature_expansion(df_x_train, feature_ef)"
      ]
    },
    {
      "cell_type": "code",
      "execution_count": null,
      "metadata": {
        "id": "H14GrI-_4VgN",
        "colab": {
          "base_uri": "https://localhost:8080/"
        },
        "outputId": "a78bc641-fa60-4496-9ba7-6f8172b7a45e"
      },
      "outputs": [
        {
          "output_type": "stream",
          "name": "stderr",
          "text": [
            "100%|██████████| 5000/5000 [01:12<00:00, 69.08it/s]\n"
          ]
        }
      ],
      "source": [
        "dfexp_x_test = feature_expansion(df_x_test, feature_ef)"
      ]
    },
    {
      "cell_type": "code",
      "execution_count": null,
      "metadata": {
        "id": "nGxFfOq04XTW"
      },
      "outputs": [],
      "source": [
        "x_train_model = np.expand_dims(dfexp_x_train,1)\n",
        "x_test_model =np.expand_dims(dfexp_x_test,1)"
      ]
    },
    {
      "cell_type": "code",
      "execution_count": null,
      "metadata": {
        "id": "2iZcqAw44Y-X",
        "colab": {
          "base_uri": "https://localhost:8080/"
        },
        "outputId": "a861aa02-88e7-4b09-9b1c-67dee83b6b83"
      },
      "outputs": [
        {
          "output_type": "execute_result",
          "data": {
            "text/plain": [
              "array([[0, 1],\n",
              "       [1, 0],\n",
              "       [0, 1],\n",
              "       ...,\n",
              "       [1, 0],\n",
              "       [1, 0],\n",
              "       [0, 1]], dtype=uint8)"
            ]
          },
          "metadata": {},
          "execution_count": 27
        }
      ],
      "source": [
        "y_train = pd.get_dummies(y_train).values\n",
        "y_test = pd.get_dummies(y_test).values\n",
        "y_test"
      ]
    },
    {
      "cell_type": "code",
      "execution_count": null,
      "metadata": {
        "id": "2na2RMU4zB8D",
        "colab": {
          "base_uri": "https://localhost:8080/"
        },
        "outputId": "32dfb6fa-d83f-4ee8-805a-a752b4e070c6"
      },
      "outputs": [
        {
          "output_type": "stream",
          "name": "stdout",
          "text": [
            "(33651, 1, 5000)\n"
          ]
        }
      ],
      "source": [
        "print(x_train_model.shape)"
      ]
    },
    {
      "cell_type": "code",
      "source": [
        "!pip install deap"
      ],
      "metadata": {
        "id": "pfKEBDsirKiI"
      },
      "execution_count": null,
      "outputs": []
    },
    {
      "cell_type": "code",
      "execution_count": null,
      "metadata": {
        "id": "QWT865Ud9E7C",
        "colab": {
          "base_uri": "https://localhost:8080/"
        },
        "outputId": "eb89eb8e-5887-4590-b09f-51389c1b8a61"
      },
      "outputs": [
        {
          "output_type": "stream",
          "name": "stdout",
          "text": [
            "Epoch 1/10\n",
            "842/842 [==============================] - 22s 21ms/step - loss: 0.5834 - accuracy: 0.6766 - val_loss: 0.4513 - val_accuracy: 0.7963\n",
            "Epoch 2/10\n",
            "842/842 [==============================] - 17s 20ms/step - loss: 0.4246 - accuracy: 0.8135 - val_loss: 0.4465 - val_accuracy: 0.7893\n",
            "Epoch 3/10\n",
            "842/842 [==============================] - 17s 20ms/step - loss: 0.3959 - accuracy: 0.8325 - val_loss: 0.4350 - val_accuracy: 0.8107\n",
            "Epoch 4/10\n",
            "842/842 [==============================] - 16s 19ms/step - loss: 0.3821 - accuracy: 0.8395 - val_loss: 0.4387 - val_accuracy: 0.8115\n",
            "Epoch 5/10\n",
            "842/842 [==============================] - 17s 21ms/step - loss: 0.3721 - accuracy: 0.8444 - val_loss: 0.4400 - val_accuracy: 0.8104\n",
            "Epoch 6/10\n",
            "842/842 [==============================] - 16s 20ms/step - loss: 0.3681 - accuracy: 0.8488 - val_loss: 0.4235 - val_accuracy: 0.8118\n",
            "Epoch 7/10\n",
            "842/842 [==============================] - 18s 22ms/step - loss: 0.3597 - accuracy: 0.8525 - val_loss: 0.4178 - val_accuracy: 0.8161\n",
            "Epoch 8/10\n",
            "842/842 [==============================] - 17s 20ms/step - loss: 0.3533 - accuracy: 0.8581 - val_loss: 0.4238 - val_accuracy: 0.8130\n",
            "Epoch 9/10\n",
            "842/842 [==============================] - 17s 21ms/step - loss: 0.3474 - accuracy: 0.8607 - val_loss: 0.4256 - val_accuracy: 0.8143\n",
            "Epoch 10/10\n",
            "842/842 [==============================] - 17s 20ms/step - loss: 0.3430 - accuracy: 0.8633 - val_loss: 0.4217 - val_accuracy: 0.8141\n",
            "1052/1052 [==============================] - 6s 6ms/step - loss: 0.3448 - accuracy: 0.8586\n",
            "Epoch 1/10\n",
            "842/842 [==============================] - 25s 26ms/step - loss: 0.5701 - accuracy: 0.6916 - val_loss: 0.4580 - val_accuracy: 0.7867\n",
            "Epoch 2/10\n",
            "842/842 [==============================] - 20s 23ms/step - loss: 0.4155 - accuracy: 0.8181 - val_loss: 0.4355 - val_accuracy: 0.8027\n",
            "Epoch 3/10\n",
            "842/842 [==============================] - 20s 23ms/step - loss: 0.3893 - accuracy: 0.8345 - val_loss: 0.4336 - val_accuracy: 0.8131\n",
            "Epoch 4/10\n",
            "842/842 [==============================] - 19s 22ms/step - loss: 0.3761 - accuracy: 0.8426 - val_loss: 0.4254 - val_accuracy: 0.8138\n",
            "Epoch 5/10\n",
            "842/842 [==============================] - 20s 23ms/step - loss: 0.3654 - accuracy: 0.8502 - val_loss: 0.4297 - val_accuracy: 0.8097\n",
            "Epoch 6/10\n",
            "842/842 [==============================] - 18s 22ms/step - loss: 0.3556 - accuracy: 0.8542 - val_loss: 0.4287 - val_accuracy: 0.8195\n",
            "Epoch 7/10\n",
            "842/842 [==============================] - 21s 25ms/step - loss: 0.3479 - accuracy: 0.8594 - val_loss: 0.4372 - val_accuracy: 0.8124\n",
            "1052/1052 [==============================] - 6s 5ms/step - loss: 0.3525 - accuracy: 0.8563\n",
            "Epoch 1/10\n",
            "842/842 [==============================] - 31s 32ms/step - loss: 0.5915 - accuracy: 0.6703 - val_loss: 0.4553 - val_accuracy: 0.7892\n",
            "Epoch 2/10\n",
            "842/842 [==============================] - 26s 31ms/step - loss: 0.4280 - accuracy: 0.8112 - val_loss: 0.4356 - val_accuracy: 0.8000\n",
            "Epoch 3/10\n",
            "842/842 [==============================] - 25s 30ms/step - loss: 0.4008 - accuracy: 0.8304 - val_loss: 0.4345 - val_accuracy: 0.8104\n",
            "Epoch 4/10\n",
            "842/842 [==============================] - 25s 30ms/step - loss: 0.3887 - accuracy: 0.8385 - val_loss: 0.4275 - val_accuracy: 0.8104\n",
            "Epoch 5/10\n",
            "842/842 [==============================] - 25s 30ms/step - loss: 0.3784 - accuracy: 0.8443 - val_loss: 0.4289 - val_accuracy: 0.8110\n",
            "Epoch 6/10\n",
            "842/842 [==============================] - 26s 31ms/step - loss: 0.3674 - accuracy: 0.8492 - val_loss: 0.4193 - val_accuracy: 0.8146\n",
            "Epoch 7/10\n",
            "842/842 [==============================] - 32s 38ms/step - loss: 0.3609 - accuracy: 0.8520 - val_loss: 0.4333 - val_accuracy: 0.8167\n",
            "Epoch 8/10\n",
            "842/842 [==============================] - 27s 32ms/step - loss: 0.3544 - accuracy: 0.8573 - val_loss: 0.4244 - val_accuracy: 0.8140\n",
            "Epoch 9/10\n",
            "842/842 [==============================] - 25s 30ms/step - loss: 0.3492 - accuracy: 0.8592 - val_loss: 0.4335 - val_accuracy: 0.8158\n",
            "1052/1052 [==============================] - 8s 8ms/step - loss: 0.3519 - accuracy: 0.8568\n",
            "Epoch 1/10\n",
            "842/842 [==============================] - 36s 38ms/step - loss: 0.5925 - accuracy: 0.6694 - val_loss: 0.4700 - val_accuracy: 0.7783\n",
            "Epoch 2/10\n",
            "842/842 [==============================] - 31s 37ms/step - loss: 0.4407 - accuracy: 0.8077 - val_loss: 0.4429 - val_accuracy: 0.8048\n",
            "Epoch 3/10\n",
            "842/842 [==============================] - 34s 41ms/step - loss: 0.4143 - accuracy: 0.8250 - val_loss: 0.4375 - val_accuracy: 0.8051\n",
            "Epoch 4/10\n",
            "842/842 [==============================] - 30s 36ms/step - loss: 0.4002 - accuracy: 0.8330 - val_loss: 0.4348 - val_accuracy: 0.8086\n",
            "Epoch 5/10\n",
            "842/842 [==============================] - 34s 40ms/step - loss: 0.3911 - accuracy: 0.8390 - val_loss: 0.4320 - val_accuracy: 0.8095\n",
            "Epoch 6/10\n",
            "842/842 [==============================] - 31s 37ms/step - loss: 0.3841 - accuracy: 0.8436 - val_loss: 0.4353 - val_accuracy: 0.8133\n",
            "Epoch 7/10\n",
            "842/842 [==============================] - 32s 38ms/step - loss: 0.3786 - accuracy: 0.8470 - val_loss: 0.4314 - val_accuracy: 0.8137\n",
            "Epoch 8/10\n",
            "842/842 [==============================] - 32s 39ms/step - loss: 0.3708 - accuracy: 0.8498 - val_loss: 0.4295 - val_accuracy: 0.8133\n",
            "Epoch 9/10\n",
            "842/842 [==============================] - 32s 38ms/step - loss: 0.3667 - accuracy: 0.8519 - val_loss: 0.4295 - val_accuracy: 0.8131\n",
            "Epoch 10/10\n",
            "842/842 [==============================] - 31s 37ms/step - loss: 0.3637 - accuracy: 0.8557 - val_loss: 0.4310 - val_accuracy: 0.8144\n",
            "1052/1052 [==============================] - 9s 9ms/step - loss: 0.3599 - accuracy: 0.8513\n",
            "Epoch 1/10\n",
            "842/842 [==============================] - 26s 26ms/step - loss: 0.5648 - accuracy: 0.6942 - val_loss: 0.4820 - val_accuracy: 0.7717\n",
            "Epoch 2/10\n",
            "842/842 [==============================] - 20s 24ms/step - loss: 0.4212 - accuracy: 0.8135 - val_loss: 0.4327 - val_accuracy: 0.8060\n",
            "Epoch 3/10\n",
            "842/842 [==============================] - 22s 26ms/step - loss: 0.3986 - accuracy: 0.8314 - val_loss: 0.4279 - val_accuracy: 0.8091\n",
            "Epoch 4/10\n",
            "842/842 [==============================] - 20s 23ms/step - loss: 0.3865 - accuracy: 0.8403 - val_loss: 0.4275 - val_accuracy: 0.8130\n",
            "Epoch 5/10\n",
            "842/842 [==============================] - 21s 25ms/step - loss: 0.3734 - accuracy: 0.8452 - val_loss: 0.4294 - val_accuracy: 0.8165\n",
            "Epoch 6/10\n",
            "842/842 [==============================] - 22s 26ms/step - loss: 0.3640 - accuracy: 0.8514 - val_loss: 0.4272 - val_accuracy: 0.8042\n",
            "Epoch 7/10\n",
            "842/842 [==============================] - 21s 24ms/step - loss: 0.3598 - accuracy: 0.8535 - val_loss: 0.4304 - val_accuracy: 0.8144\n",
            "Epoch 8/10\n",
            "842/842 [==============================] - 22s 26ms/step - loss: 0.3516 - accuracy: 0.8571 - val_loss: 0.4196 - val_accuracy: 0.8141\n",
            "Epoch 9/10\n",
            "842/842 [==============================] - 26s 30ms/step - loss: 0.3472 - accuracy: 0.8600 - val_loss: 0.4268 - val_accuracy: 0.8124\n",
            "Epoch 10/10\n",
            "842/842 [==============================] - 20s 24ms/step - loss: 0.3420 - accuracy: 0.8624 - val_loss: 0.4377 - val_accuracy: 0.8119\n",
            "1052/1052 [==============================] - 6s 6ms/step - loss: 0.3541 - accuracy: 0.8553\n",
            "gen\tnevals\tmax     \n",
            "0  \t5     \t0.858607\n",
            "Epoch 1/10\n",
            "842/842 [==============================] - 30s 29ms/step - loss: 0.5881 - accuracy: 0.6758 - val_loss: 0.4771 - val_accuracy: 0.7849\n",
            "Epoch 2/10\n",
            "842/842 [==============================] - 19s 22ms/step - loss: 0.4290 - accuracy: 0.8114 - val_loss: 0.4391 - val_accuracy: 0.8052\n",
            "Epoch 3/10\n",
            "842/842 [==============================] - 20s 24ms/step - loss: 0.3991 - accuracy: 0.8305 - val_loss: 0.4311 - val_accuracy: 0.8081\n",
            "Epoch 4/10\n",
            "842/842 [==============================] - 19s 23ms/step - loss: 0.3856 - accuracy: 0.8409 - val_loss: 0.4271 - val_accuracy: 0.8078\n",
            "Epoch 5/10\n",
            "842/842 [==============================] - 22s 26ms/step - loss: 0.3761 - accuracy: 0.8446 - val_loss: 0.4410 - val_accuracy: 0.8144\n",
            "Epoch 6/10\n",
            "842/842 [==============================] - 22s 27ms/step - loss: 0.3689 - accuracy: 0.8493 - val_loss: 0.4250 - val_accuracy: 0.8146\n",
            "Epoch 7/10\n",
            "842/842 [==============================] - 22s 26ms/step - loss: 0.3610 - accuracy: 0.8530 - val_loss: 0.4250 - val_accuracy: 0.8133\n",
            "Epoch 8/10\n",
            "842/842 [==============================] - 22s 27ms/step - loss: 0.3578 - accuracy: 0.8549 - val_loss: 0.4267 - val_accuracy: 0.8143\n",
            "Epoch 9/10\n",
            "842/842 [==============================] - 23s 27ms/step - loss: 0.3510 - accuracy: 0.8589 - val_loss: 0.4232 - val_accuracy: 0.8133\n",
            "Epoch 10/10\n",
            "842/842 [==============================] - 22s 26ms/step - loss: 0.3457 - accuracy: 0.8604 - val_loss: 0.4272 - val_accuracy: 0.8121\n",
            "1052/1052 [==============================] - 6s 6ms/step - loss: 0.3527 - accuracy: 0.8554\n",
            "Epoch 1/10\n",
            "842/842 [==============================] - 28s 28ms/step - loss: 0.5770 - accuracy: 0.6812 - val_loss: 0.4540 - val_accuracy: 0.7901\n",
            "Epoch 2/10\n",
            "842/842 [==============================] - 23s 27ms/step - loss: 0.4220 - accuracy: 0.8178 - val_loss: 0.4395 - val_accuracy: 0.8058\n",
            "Epoch 3/10\n",
            "842/842 [==============================] - 23s 27ms/step - loss: 0.3952 - accuracy: 0.8303 - val_loss: 0.4344 - val_accuracy: 0.8086\n",
            "Epoch 4/10\n",
            "842/842 [==============================] - 23s 28ms/step - loss: 0.3836 - accuracy: 0.8399 - val_loss: 0.4273 - val_accuracy: 0.8054\n",
            "Epoch 5/10\n",
            "842/842 [==============================] - 22s 26ms/step - loss: 0.3728 - accuracy: 0.8448 - val_loss: 0.4244 - val_accuracy: 0.8128\n",
            "Epoch 6/10\n",
            "842/842 [==============================] - 22s 26ms/step - loss: 0.3628 - accuracy: 0.8509 - val_loss: 0.4277 - val_accuracy: 0.8124\n",
            "Epoch 7/10\n",
            "842/842 [==============================] - 23s 27ms/step - loss: 0.3560 - accuracy: 0.8546 - val_loss: 0.4281 - val_accuracy: 0.8141\n",
            "Epoch 8/10\n",
            "842/842 [==============================] - 23s 27ms/step - loss: 0.3486 - accuracy: 0.8582 - val_loss: 0.4299 - val_accuracy: 0.8162\n",
            "1052/1052 [==============================] - 6s 6ms/step - loss: 0.3511 - accuracy: 0.8568\n",
            "Epoch 1/10\n",
            "842/842 [==============================] - 25s 26ms/step - loss: 0.5617 - accuracy: 0.6949 - val_loss: 0.4751 - val_accuracy: 0.7822\n",
            "Epoch 2/10\n",
            "842/842 [==============================] - 21s 25ms/step - loss: 0.4143 - accuracy: 0.8208 - val_loss: 0.4431 - val_accuracy: 0.8049\n",
            "Epoch 3/10\n",
            "842/842 [==============================] - 21s 25ms/step - loss: 0.3890 - accuracy: 0.8342 - val_loss: 0.4302 - val_accuracy: 0.8128\n",
            "Epoch 4/10\n",
            "842/842 [==============================] - 23s 28ms/step - loss: 0.3741 - accuracy: 0.8439 - val_loss: 0.4359 - val_accuracy: 0.8079\n",
            "Epoch 5/10\n",
            "842/842 [==============================] - 20s 24ms/step - loss: 0.3638 - accuracy: 0.8500 - val_loss: 0.4255 - val_accuracy: 0.8155\n",
            "Epoch 6/10\n",
            "842/842 [==============================] - 21s 25ms/step - loss: 0.3559 - accuracy: 0.8552 - val_loss: 0.4216 - val_accuracy: 0.8141\n",
            "Epoch 7/10\n",
            "842/842 [==============================] - 19s 23ms/step - loss: 0.3464 - accuracy: 0.8610 - val_loss: 0.4238 - val_accuracy: 0.8179\n",
            "Epoch 8/10\n",
            "842/842 [==============================] - 21s 25ms/step - loss: 0.3390 - accuracy: 0.8645 - val_loss: 0.4256 - val_accuracy: 0.8137\n",
            "Epoch 9/10\n",
            "842/842 [==============================] - 20s 23ms/step - loss: 0.3316 - accuracy: 0.8682 - val_loss: 0.4258 - val_accuracy: 0.8170\n",
            "1052/1052 [==============================] - 5s 5ms/step - loss: 0.3369 - accuracy: 0.8646\n",
            "Epoch 1/10\n",
            "842/842 [==============================] - 43s 45ms/step - loss: 0.5836 - accuracy: 0.6800 - val_loss: 0.4558 - val_accuracy: 0.7953\n",
            "Epoch 2/10\n",
            "842/842 [==============================] - 25s 30ms/step - loss: 0.4258 - accuracy: 0.8143 - val_loss: 0.4341 - val_accuracy: 0.8011\n",
            "Epoch 3/10\n",
            "842/842 [==============================] - 27s 32ms/step - loss: 0.4006 - accuracy: 0.8308 - val_loss: 0.4310 - val_accuracy: 0.8089\n",
            "Epoch 4/10\n",
            "842/842 [==============================] - 27s 32ms/step - loss: 0.3858 - accuracy: 0.8392 - val_loss: 0.4234 - val_accuracy: 0.8118\n",
            "Epoch 5/10\n",
            "842/842 [==============================] - 25s 30ms/step - loss: 0.3748 - accuracy: 0.8458 - val_loss: 0.4318 - val_accuracy: 0.8098\n",
            "Epoch 6/10\n",
            "842/842 [==============================] - 28s 33ms/step - loss: 0.3677 - accuracy: 0.8493 - val_loss: 0.4211 - val_accuracy: 0.8116\n",
            "Epoch 7/10\n",
            "842/842 [==============================] - 28s 33ms/step - loss: 0.3587 - accuracy: 0.8527 - val_loss: 0.4225 - val_accuracy: 0.8125\n",
            "Epoch 8/10\n",
            "842/842 [==============================] - 27s 32ms/step - loss: 0.3533 - accuracy: 0.8567 - val_loss: 0.4230 - val_accuracy: 0.8113\n",
            "Epoch 9/10\n",
            "842/842 [==============================] - 28s 33ms/step - loss: 0.3482 - accuracy: 0.8595 - val_loss: 0.4223 - val_accuracy: 0.8170\n",
            "1052/1052 [==============================] - 8s 8ms/step - loss: 0.3474 - accuracy: 0.8581\n",
            "1  \t4     \t0.86464 \n",
            "Epoch 1/10\n",
            "842/842 [==============================] - 26s 25ms/step - loss: 0.5808 - accuracy: 0.6805 - val_loss: 0.4610 - val_accuracy: 0.7884\n",
            "Epoch 2/10\n",
            "842/842 [==============================] - 21s 25ms/step - loss: 0.4222 - accuracy: 0.8142 - val_loss: 0.4310 - val_accuracy: 0.8052\n",
            "Epoch 3/10\n",
            "842/842 [==============================] - 20s 24ms/step - loss: 0.3956 - accuracy: 0.8324 - val_loss: 0.4315 - val_accuracy: 0.8029\n",
            "Epoch 4/10\n",
            "842/842 [==============================] - 22s 26ms/step - loss: 0.3821 - accuracy: 0.8406 - val_loss: 0.4301 - val_accuracy: 0.8119\n",
            "Epoch 5/10\n",
            "842/842 [==============================] - 21s 25ms/step - loss: 0.3709 - accuracy: 0.8473 - val_loss: 0.4365 - val_accuracy: 0.8149\n",
            "Epoch 6/10\n",
            "842/842 [==============================] - 21s 25ms/step - loss: 0.3633 - accuracy: 0.8511 - val_loss: 0.4245 - val_accuracy: 0.8150\n",
            "Epoch 7/10\n",
            "842/842 [==============================] - 21s 25ms/step - loss: 0.3565 - accuracy: 0.8557 - val_loss: 0.4223 - val_accuracy: 0.8158\n",
            "Epoch 8/10\n",
            "842/842 [==============================] - 23s 27ms/step - loss: 0.3500 - accuracy: 0.8579 - val_loss: 0.4199 - val_accuracy: 0.8138\n",
            "Epoch 9/10\n",
            "842/842 [==============================] - 20s 24ms/step - loss: 0.3433 - accuracy: 0.8621 - val_loss: 0.4232 - val_accuracy: 0.8161\n",
            "Epoch 10/10\n",
            "842/842 [==============================] - 25s 30ms/step - loss: 0.3377 - accuracy: 0.8658 - val_loss: 0.4268 - val_accuracy: 0.8156\n",
            "1052/1052 [==============================] - 7s 7ms/step - loss: 0.3412 - accuracy: 0.8609\n",
            "Epoch 1/10\n",
            "842/842 [==============================] - 25s 26ms/step - loss: 0.5777 - accuracy: 0.6824 - val_loss: 0.4612 - val_accuracy: 0.7904\n",
            "Epoch 2/10\n",
            "842/842 [==============================] - 19s 22ms/step - loss: 0.4236 - accuracy: 0.8131 - val_loss: 0.4371 - val_accuracy: 0.8082\n",
            "Epoch 3/10\n",
            "842/842 [==============================] - 19s 23ms/step - loss: 0.3959 - accuracy: 0.8307 - val_loss: 0.4334 - val_accuracy: 0.8095\n",
            "Epoch 4/10\n",
            "842/842 [==============================] - 20s 24ms/step - loss: 0.3830 - accuracy: 0.8390 - val_loss: 0.4257 - val_accuracy: 0.8144\n",
            "Epoch 5/10\n",
            "842/842 [==============================] - 20s 24ms/step - loss: 0.3723 - accuracy: 0.8469 - val_loss: 0.4251 - val_accuracy: 0.8133\n",
            "Epoch 6/10\n",
            "842/842 [==============================] - 18s 22ms/step - loss: 0.3631 - accuracy: 0.8504 - val_loss: 0.4262 - val_accuracy: 0.8067\n",
            "Epoch 7/10\n",
            "842/842 [==============================] - 17s 21ms/step - loss: 0.3576 - accuracy: 0.8543 - val_loss: 0.4360 - val_accuracy: 0.8127\n",
            "Epoch 8/10\n",
            "842/842 [==============================] - 20s 24ms/step - loss: 0.3499 - accuracy: 0.8582 - val_loss: 0.4169 - val_accuracy: 0.8155\n",
            "Epoch 9/10\n",
            "842/842 [==============================] - 19s 23ms/step - loss: 0.3441 - accuracy: 0.8601 - val_loss: 0.4229 - val_accuracy: 0.8182\n",
            "Epoch 10/10\n",
            "842/842 [==============================] - 20s 23ms/step - loss: 0.3392 - accuracy: 0.8634 - val_loss: 0.4243 - val_accuracy: 0.8133\n",
            "1052/1052 [==============================] - 5s 5ms/step - loss: 0.3437 - accuracy: 0.8572\n",
            "Epoch 1/10\n",
            "842/842 [==============================] - 32s 34ms/step - loss: 0.5806 - accuracy: 0.6805 - val_loss: 0.4538 - val_accuracy: 0.7896\n",
            "Epoch 2/10\n",
            "842/842 [==============================] - 28s 33ms/step - loss: 0.4262 - accuracy: 0.8147 - val_loss: 0.4336 - val_accuracy: 0.8017\n",
            "Epoch 3/10\n",
            "842/842 [==============================] - 30s 36ms/step - loss: 0.4008 - accuracy: 0.8295 - val_loss: 0.4323 - val_accuracy: 0.8054\n",
            "Epoch 4/10\n",
            "842/842 [==============================] - 28s 33ms/step - loss: 0.3876 - accuracy: 0.8392 - val_loss: 0.4322 - val_accuracy: 0.8109\n",
            "Epoch 5/10\n",
            "842/842 [==============================] - 27s 32ms/step - loss: 0.3761 - accuracy: 0.8445 - val_loss: 0.4419 - val_accuracy: 0.8075\n",
            "Epoch 6/10\n",
            "842/842 [==============================] - 28s 33ms/step - loss: 0.3699 - accuracy: 0.8492 - val_loss: 0.4299 - val_accuracy: 0.8146\n",
            "Epoch 7/10\n",
            "842/842 [==============================] - 28s 34ms/step - loss: 0.3622 - accuracy: 0.8542 - val_loss: 0.4206 - val_accuracy: 0.8119\n",
            "Epoch 8/10\n",
            "842/842 [==============================] - 26s 31ms/step - loss: 0.3559 - accuracy: 0.8569 - val_loss: 0.4359 - val_accuracy: 0.8165\n",
            "Epoch 9/10\n",
            "842/842 [==============================] - 27s 33ms/step - loss: 0.3519 - accuracy: 0.8577 - val_loss: 0.4262 - val_accuracy: 0.8131\n",
            "Epoch 10/10\n",
            "842/842 [==============================] - 28s 33ms/step - loss: 0.3462 - accuracy: 0.8611 - val_loss: 0.4214 - val_accuracy: 0.8143\n",
            "1052/1052 [==============================] - 7s 7ms/step - loss: 0.3471 - accuracy: 0.8561\n",
            "2  \t3     \t0.860925\n",
            "Epoch 1/10\n",
            "842/842 [==============================] - 24s 24ms/step - loss: 0.5671 - accuracy: 0.6916 - val_loss: 0.4570 - val_accuracy: 0.7926\n",
            "Epoch 2/10\n",
            "842/842 [==============================] - 17s 20ms/step - loss: 0.4191 - accuracy: 0.8135 - val_loss: 0.4361 - val_accuracy: 0.8031\n",
            "Epoch 3/10\n",
            "842/842 [==============================] - 18s 21ms/step - loss: 0.3955 - accuracy: 0.8331 - val_loss: 0.4268 - val_accuracy: 0.8104\n",
            "Epoch 4/10\n",
            "842/842 [==============================] - 17s 20ms/step - loss: 0.3831 - accuracy: 0.8412 - val_loss: 0.4367 - val_accuracy: 0.8103\n",
            "Epoch 5/10\n",
            "842/842 [==============================] - 18s 21ms/step - loss: 0.3722 - accuracy: 0.8464 - val_loss: 0.4309 - val_accuracy: 0.8110\n",
            "Epoch 6/10\n",
            "842/842 [==============================] - 16s 19ms/step - loss: 0.3648 - accuracy: 0.8484 - val_loss: 0.4200 - val_accuracy: 0.8141\n",
            "Epoch 7/10\n",
            "842/842 [==============================] - 19s 23ms/step - loss: 0.3578 - accuracy: 0.8546 - val_loss: 0.4190 - val_accuracy: 0.8128\n",
            "Epoch 8/10\n",
            "842/842 [==============================] - 18s 21ms/step - loss: 0.3512 - accuracy: 0.8574 - val_loss: 0.4259 - val_accuracy: 0.8147\n",
            "Epoch 9/10\n",
            "842/842 [==============================] - 18s 21ms/step - loss: 0.3468 - accuracy: 0.8589 - val_loss: 0.4273 - val_accuracy: 0.8144\n",
            "Epoch 10/10\n",
            "842/842 [==============================] - 18s 21ms/step - loss: 0.3429 - accuracy: 0.8594 - val_loss: 0.4199 - val_accuracy: 0.8140\n",
            "1052/1052 [==============================] - 5s 5ms/step - loss: 0.3439 - accuracy: 0.8583\n",
            "Epoch 1/10\n",
            "842/842 [==============================] - 30s 28ms/step - loss: 0.5630 - accuracy: 0.6971 - val_loss: 0.4554 - val_accuracy: 0.7871\n",
            "Epoch 2/10\n",
            "842/842 [==============================] - 24s 28ms/step - loss: 0.4198 - accuracy: 0.8165 - val_loss: 0.4362 - val_accuracy: 0.8023\n",
            "Epoch 3/10\n",
            "842/842 [==============================] - 22s 26ms/step - loss: 0.3924 - accuracy: 0.8341 - val_loss: 0.4516 - val_accuracy: 0.8100\n",
            "Epoch 4/10\n",
            "842/842 [==============================] - 21s 25ms/step - loss: 0.3818 - accuracy: 0.8421 - val_loss: 0.4288 - val_accuracy: 0.8086\n",
            "Epoch 5/10\n",
            "842/842 [==============================] - 22s 27ms/step - loss: 0.3697 - accuracy: 0.8477 - val_loss: 0.4197 - val_accuracy: 0.8130\n",
            "Epoch 6/10\n",
            "842/842 [==============================] - 22s 26ms/step - loss: 0.3615 - accuracy: 0.8513 - val_loss: 0.4266 - val_accuracy: 0.8104\n",
            "Epoch 7/10\n",
            "842/842 [==============================] - 22s 26ms/step - loss: 0.3539 - accuracy: 0.8564 - val_loss: 0.4169 - val_accuracy: 0.8131\n",
            "Epoch 8/10\n",
            "842/842 [==============================] - 24s 29ms/step - loss: 0.3478 - accuracy: 0.8594 - val_loss: 0.4347 - val_accuracy: 0.8125\n",
            "Epoch 9/10\n",
            "842/842 [==============================] - 23s 27ms/step - loss: 0.3426 - accuracy: 0.8623 - val_loss: 0.4227 - val_accuracy: 0.8150\n",
            "Epoch 10/10\n",
            "842/842 [==============================] - 21s 25ms/step - loss: 0.3373 - accuracy: 0.8651 - val_loss: 0.4166 - val_accuracy: 0.8144\n",
            "1052/1052 [==============================] - 7s 7ms/step - loss: 0.3427 - accuracy: 0.8624\n",
            "Epoch 1/10\n",
            "842/842 [==============================] - 25s 25ms/step - loss: 0.6022 - accuracy: 0.6621 - val_loss: 0.4607 - val_accuracy: 0.7855\n",
            "Epoch 2/10\n",
            "842/842 [==============================] - 18s 22ms/step - loss: 0.4274 - accuracy: 0.8097 - val_loss: 0.4389 - val_accuracy: 0.8069\n",
            "Epoch 3/10\n",
            "842/842 [==============================] - 21s 25ms/step - loss: 0.3999 - accuracy: 0.8315 - val_loss: 0.4313 - val_accuracy: 0.8110\n",
            "Epoch 4/10\n",
            "842/842 [==============================] - 17s 21ms/step - loss: 0.3842 - accuracy: 0.8377 - val_loss: 0.4280 - val_accuracy: 0.8124\n",
            "Epoch 5/10\n",
            "842/842 [==============================] - 20s 24ms/step - loss: 0.3737 - accuracy: 0.8458 - val_loss: 0.4402 - val_accuracy: 0.8107\n",
            "Epoch 6/10\n",
            "842/842 [==============================] - 17s 21ms/step - loss: 0.3658 - accuracy: 0.8490 - val_loss: 0.4272 - val_accuracy: 0.8098\n",
            "Epoch 7/10\n",
            "842/842 [==============================] - 20s 23ms/step - loss: 0.3598 - accuracy: 0.8525 - val_loss: 0.4343 - val_accuracy: 0.8127\n",
            "Epoch 8/10\n",
            "842/842 [==============================] - 18s 22ms/step - loss: 0.3521 - accuracy: 0.8561 - val_loss: 0.4300 - val_accuracy: 0.8127\n",
            "Epoch 9/10\n",
            "842/842 [==============================] - 19s 22ms/step - loss: 0.3488 - accuracy: 0.8591 - val_loss: 0.4278 - val_accuracy: 0.8173\n",
            "1052/1052 [==============================] - 6s 6ms/step - loss: 0.3528 - accuracy: 0.8548\n",
            "Epoch 1/10\n",
            "842/842 [==============================] - 35s 37ms/step - loss: 0.5817 - accuracy: 0.6769 - val_loss: 0.4538 - val_accuracy: 0.7898\n",
            "Epoch 2/10\n",
            "842/842 [==============================] - 27s 32ms/step - loss: 0.4264 - accuracy: 0.8118 - val_loss: 0.4481 - val_accuracy: 0.8031\n",
            "Epoch 3/10\n",
            "842/842 [==============================] - 27s 32ms/step - loss: 0.3996 - accuracy: 0.8323 - val_loss: 0.4297 - val_accuracy: 0.8116\n",
            "Epoch 4/10\n",
            "842/842 [==============================] - 31s 37ms/step - loss: 0.3883 - accuracy: 0.8395 - val_loss: 0.4239 - val_accuracy: 0.8113\n",
            "Epoch 5/10\n",
            "842/842 [==============================] - 29s 34ms/step - loss: 0.3748 - accuracy: 0.8461 - val_loss: 0.4220 - val_accuracy: 0.8141\n",
            "Epoch 6/10\n",
            "842/842 [==============================] - 36s 43ms/step - loss: 0.3675 - accuracy: 0.8498 - val_loss: 0.4332 - val_accuracy: 0.8162\n",
            "Epoch 7/10\n",
            "842/842 [==============================] - 28s 33ms/step - loss: 0.3606 - accuracy: 0.8530 - val_loss: 0.4261 - val_accuracy: 0.8170\n",
            "Epoch 8/10\n",
            "842/842 [==============================] - 30s 36ms/step - loss: 0.3522 - accuracy: 0.8573 - val_loss: 0.4308 - val_accuracy: 0.8190\n",
            "1052/1052 [==============================] - 7s 7ms/step - loss: 0.3561 - accuracy: 0.8542\n",
            "3  \t4     \t0.862352\n",
            "Epoch 1/10\n",
            "842/842 [==============================] - 29s 30ms/step - loss: 0.5872 - accuracy: 0.6729 - val_loss: 0.4589 - val_accuracy: 0.7917\n",
            "Epoch 2/10\n",
            "842/842 [==============================] - 24s 28ms/step - loss: 0.4268 - accuracy: 0.8139 - val_loss: 0.4322 - val_accuracy: 0.8039\n",
            "Epoch 3/10\n",
            "842/842 [==============================] - 25s 30ms/step - loss: 0.3969 - accuracy: 0.8308 - val_loss: 0.4280 - val_accuracy: 0.8091\n",
            "Epoch 4/10\n",
            "842/842 [==============================] - 23s 27ms/step - loss: 0.3824 - accuracy: 0.8416 - val_loss: 0.4294 - val_accuracy: 0.8122\n",
            "Epoch 5/10\n",
            "842/842 [==============================] - 25s 30ms/step - loss: 0.3723 - accuracy: 0.8476 - val_loss: 0.4248 - val_accuracy: 0.8150\n",
            "Epoch 6/10\n",
            "842/842 [==============================] - 25s 30ms/step - loss: 0.3620 - accuracy: 0.8538 - val_loss: 0.4263 - val_accuracy: 0.8091\n",
            "Epoch 7/10\n",
            "842/842 [==============================] - 26s 31ms/step - loss: 0.3556 - accuracy: 0.8571 - val_loss: 0.4174 - val_accuracy: 0.8122\n",
            "Epoch 8/10\n",
            "842/842 [==============================] - 25s 30ms/step - loss: 0.3490 - accuracy: 0.8598 - val_loss: 0.4418 - val_accuracy: 0.8106\n",
            "Epoch 9/10\n",
            "842/842 [==============================] - 25s 30ms/step - loss: 0.3430 - accuracy: 0.8629 - val_loss: 0.4298 - val_accuracy: 0.8190\n",
            "Epoch 10/10\n",
            "842/842 [==============================] - 25s 29ms/step - loss: 0.3373 - accuracy: 0.8673 - val_loss: 0.4274 - val_accuracy: 0.8167\n",
            "1052/1052 [==============================] - 6s 6ms/step - loss: 0.3391 - accuracy: 0.8629\n",
            "4  \t1     \t0.862887\n",
            "Epoch 1/10\n",
            "842/842 [==============================] - 28s 28ms/step - loss: 0.5931 - accuracy: 0.6689 - val_loss: 0.4508 - val_accuracy: 0.7927\n",
            "Epoch 2/10\n",
            "842/842 [==============================] - 24s 28ms/step - loss: 0.4228 - accuracy: 0.8134 - val_loss: 0.4349 - val_accuracy: 0.8040\n",
            "Epoch 3/10\n",
            "842/842 [==============================] - 22s 26ms/step - loss: 0.3962 - accuracy: 0.8317 - val_loss: 0.4281 - val_accuracy: 0.8091\n",
            "Epoch 4/10\n",
            "842/842 [==============================] - 23s 27ms/step - loss: 0.3822 - accuracy: 0.8405 - val_loss: 0.4295 - val_accuracy: 0.8115\n",
            "Epoch 5/10\n",
            "842/842 [==============================] - 23s 28ms/step - loss: 0.3723 - accuracy: 0.8477 - val_loss: 0.4245 - val_accuracy: 0.8135\n",
            "Epoch 6/10\n",
            "842/842 [==============================] - 21s 25ms/step - loss: 0.3633 - accuracy: 0.8507 - val_loss: 0.4250 - val_accuracy: 0.8153\n",
            "Epoch 7/10\n",
            "842/842 [==============================] - 22s 27ms/step - loss: 0.3555 - accuracy: 0.8551 - val_loss: 0.4285 - val_accuracy: 0.8164\n",
            "Epoch 8/10\n",
            "842/842 [==============================] - 24s 28ms/step - loss: 0.3515 - accuracy: 0.8593 - val_loss: 0.4243 - val_accuracy: 0.8133\n",
            "Epoch 9/10\n",
            "842/842 [==============================] - 23s 27ms/step - loss: 0.3427 - accuracy: 0.8618 - val_loss: 0.4298 - val_accuracy: 0.8152\n",
            "Epoch 10/10\n",
            "842/842 [==============================] - 22s 27ms/step - loss: 0.3374 - accuracy: 0.8668 - val_loss: 0.4180 - val_accuracy: 0.8162\n",
            "1052/1052 [==============================] - 7s 6ms/step - loss: 0.3392 - accuracy: 0.8621\n",
            "Epoch 1/10\n",
            "842/842 [==============================] - 29s 29ms/step - loss: 0.5691 - accuracy: 0.6884 - val_loss: 0.4783 - val_accuracy: 0.7700\n",
            "Epoch 2/10\n",
            "842/842 [==============================] - 22s 26ms/step - loss: 0.4210 - accuracy: 0.8162 - val_loss: 0.4429 - val_accuracy: 0.8051\n",
            "Epoch 3/10\n",
            "842/842 [==============================] - 23s 28ms/step - loss: 0.3957 - accuracy: 0.8316 - val_loss: 0.4316 - val_accuracy: 0.8030\n",
            "Epoch 4/10\n",
            "842/842 [==============================] - 22s 26ms/step - loss: 0.3820 - accuracy: 0.8411 - val_loss: 0.4273 - val_accuracy: 0.8143\n",
            "Epoch 5/10\n",
            "842/842 [==============================] - 23s 28ms/step - loss: 0.3713 - accuracy: 0.8457 - val_loss: 0.4259 - val_accuracy: 0.8046\n",
            "Epoch 6/10\n",
            "842/842 [==============================] - 22s 26ms/step - loss: 0.3620 - accuracy: 0.8506 - val_loss: 0.4297 - val_accuracy: 0.8127\n",
            "Epoch 7/10\n",
            "842/842 [==============================] - 23s 27ms/step - loss: 0.3546 - accuracy: 0.8549 - val_loss: 0.4274 - val_accuracy: 0.8150\n",
            "Epoch 8/10\n",
            "842/842 [==============================] - 24s 28ms/step - loss: 0.3482 - accuracy: 0.8583 - val_loss: 0.4213 - val_accuracy: 0.8177\n",
            "Epoch 9/10\n",
            "842/842 [==============================] - 25s 30ms/step - loss: 0.3427 - accuracy: 0.8607 - val_loss: 0.4356 - val_accuracy: 0.8156\n",
            "Epoch 10/10\n",
            "842/842 [==============================] - 22s 26ms/step - loss: 0.3389 - accuracy: 0.8641 - val_loss: 0.4343 - val_accuracy: 0.8150\n",
            "1052/1052 [==============================] - 8s 7ms/step - loss: 0.3513 - accuracy: 0.8542\n",
            "5  \t2     \t0.862887\n",
            "Best individual: [78, 0.21023465417144005, 110, 0.26364139767027345]\n",
            "Best fitness: 0.8646399974822998\n"
          ]
        }
      ],
      "source": [
        "import random\n",
        "from deap import base, creator, tools, algorithms\n",
        "import numpy as np\n",
        "from keras import layers\n",
        "from keras.layers import GRU, Dense, Dropout\n",
        "from keras.models import Sequential\n",
        "from keras.callbacks import EarlyStopping, ModelCheckpoint\n",
        "\n",
        "# Define Fitness Function\n",
        "creator.create(\"FitnessMax\", base.Fitness, weights=(1.0,))\n",
        "creator.create(\"Individual\", list, fitness=creator.FitnessMax)  # Use list for mutability\n",
        "\n",
        "# Toolbox GA\n",
        "toolbox = base.Toolbox()\n",
        "toolbox.register(\"attr_int\", random.randint, 64, 128)\n",
        "toolbox.register(\"attr_float\", lambda: random.uniform(0.2, 0.6))\n",
        "toolbox.register(\"individual\", tools.initCycle, creator.Individual,\n",
        "                 (toolbox.attr_int, toolbox.attr_float), n=2)\n",
        "toolbox.register(\"population\", tools.initRepeat, list, toolbox.individual)\n",
        "\n",
        "# Evaluation Function\n",
        "def evaluate_ga(individual, x_train, y_train):\n",
        "    gru_units = int(individual[0])\n",
        "    dropout_rate = individual[1]  # Access dropout_rate directly\n",
        "    model = build_gru_model(gru_units, dropout_rate)\n",
        "\n",
        "    # Early stopping and model checkpoint\n",
        "    callbacks = [\n",
        "        EarlyStopping(monitor='val_loss', patience=3),\n",
        "        ModelCheckpoint(filepath='best_model.h5', monitor='val_loss', save_best_only=True)\n",
        "    ]\n",
        "\n",
        "    model.fit(x_train, y_train, epochs=10, validation_split=0.2, callbacks=callbacks)\n",
        "    _, accuracy = model.evaluate(x_train, y_train)\n",
        "    return accuracy,\n",
        "\n",
        "# Model Building Function (unchanged)\n",
        "def build_gru_model(gru_units, dropout_rate):\n",
        "  model = Sequential()\n",
        "  model.add(layers.Input(shape=(1, 5000)))\n",
        "  model.add(GRU(gru_units, activation='relu', return_sequences=True))\n",
        "  model.add(Dropout(rate=dropout_rate))\n",
        "  model.add(GRU(128, activation='relu', return_sequences=True))\n",
        "  model.add(Dropout(rate=dropout_rate))\n",
        "  model.add(GRU(64, activation='relu', return_sequences=False))\n",
        "  model.add(Dropout(rate=dropout_rate))\n",
        "  model.add(Dense(2, activation='softmax'))\n",
        "  model.compile(optimizer='rmsprop', loss='categorical_crossentropy', metrics=['accuracy'])\n",
        "  return model\n",
        "\n",
        "# Configuration and Execution\n",
        "x_train = x_train_model\n",
        "y_train = y_train\n",
        "\n",
        "# Register modified crossover function directly\n",
        "toolbox.register(\"mate\", tools.cxUniform, indpb=0.5)  # No need to redefine\n",
        "\n",
        "# Register mutation function that works with lists\n",
        "toolbox.register(\"mutate\", tools.mutUniformInt, low=64, up=128, indpb=0.2)  # Adjust for integers\n",
        "toolbox.register(\"select\", tools.selTournament, tournsize=3)\n",
        "\n",
        "toolbox.register(\"evaluate\", evaluate_ga, x_train=x_train, y_train=y_train)\n",
        "population = toolbox.population(n=5)\n",
        "hof = tools.HallOfFame(1)\n",
        "stats = tools.Statistics(lambda ind: ind.fitness.values)\n",
        "stats.register(\"max\", np.max)\n",
        "\n",
        "cxpb, mutpb, ngen = 0.5, 0.2, 5\n",
        "\n",
        "algorithms.eaSimple(\n",
        "    population, toolbox, cxpb=cxpb, mutpb=mutpb, ngen=ngen, stats=stats, halloffame=hof\n",
        ")\n",
        "\n",
        "best_ind = hof[0]\n",
        "best_fitness = best_ind.fitness.values[0]\n",
        "\n",
        "print(\"Best individual:\", best_ind)\n",
        "print(\"Best fitness:\", best_fitness)\n"
      ]
    }
  ],
  "metadata": {
    "colab": {
      "provenance": []
    },
    "kernelspec": {
      "display_name": "Python 3",
      "name": "python3"
    },
    "language_info": {
      "name": "python"
    }
  },
  "nbformat": 4,
  "nbformat_minor": 0
}