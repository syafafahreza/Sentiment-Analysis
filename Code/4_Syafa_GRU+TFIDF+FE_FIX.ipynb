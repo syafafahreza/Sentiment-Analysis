{
  "nbformat": 4,
  "nbformat_minor": 0,
  "metadata": {
    "colab": {
      "provenance": []
    },
    "kernelspec": {
      "name": "python3",
      "display_name": "Python 3"
    },
    "language_info": {
      "name": "python"
    }
  },
  "cells": [
    {
      "cell_type": "markdown",
      "source": [
        "#LIBRARY"
      ],
      "metadata": {
        "id": "lGASpAu-1x2h"
      }
    },
    {
      "cell_type": "code",
      "source": [
        "%%capture\n",
        "!pip install tensorflow"
      ],
      "metadata": {
        "id": "VkO5ZEtP19lg"
      },
      "execution_count": null,
      "outputs": []
    },
    {
      "cell_type": "code",
      "source": [
        "import pandas as pd\n",
        "import numpy as np\n",
        "from sklearn.preprocessing import LabelEncoder\n",
        "import tensorflow as tf\n",
        "from tensorflow import keras\n",
        "from sklearn.model_selection import train_test_split\n"
      ],
      "metadata": {
        "id": "driZPGRb2OCx"
      },
      "execution_count": null,
      "outputs": []
    },
    {
      "cell_type": "markdown",
      "source": [
        "#LOAD DATA"
      ],
      "metadata": {
        "id": "rxnxIMVr149p"
      }
    },
    {
      "cell_type": "code",
      "source": [
        "from google.colab import drive\n",
        "!gdown \"1rD-_mHaqds2plYf3R20xe42NKKAEku49\""
      ],
      "metadata": {
        "id": "m7zIQacP2Q-d",
        "colab": {
          "base_uri": "https://localhost:8080/"
        },
        "outputId": "a738605d-72fb-4df1-8ae4-17e37500d8ce"
      },
      "execution_count": null,
      "outputs": [
        {
          "output_type": "stream",
          "name": "stdout",
          "text": [
            "Downloading...\n",
            "From: https://drive.google.com/uc?id=1rD-_mHaqds2plYf3R20xe42NKKAEku49\n",
            "To: /content/databarulagi.csv\n",
            "100% 48.8M/48.8M [00:00<00:00, 115MB/s]\n"
          ]
        }
      ]
    },
    {
      "cell_type": "code",
      "source": [
        "# Load Data\n",
        "df = pd.read_csv(\"databarulagi.csv\")\n",
        "df.head()"
      ],
      "metadata": {
        "colab": {
          "base_uri": "https://localhost:8080/",
          "height": 362
        },
        "id": "s-YQRMg52rdc",
        "outputId": "0261c98b-5bfc-4094-be44-0d40d5fe6542"
      },
      "execution_count": null,
      "outputs": [
        {
          "output_type": "execute_result",
          "data": {
            "text/plain": [
              "   Unnamed: 0  index                                          full_text  \\\n",
              "0        2906   3088  6342E+18;Surya Paloh Tak Masalah Jika Anies Ba...   \n",
              "1        8722   9612  1708146700450440000 \"\"@lhayesno @ganjarpranowo...   \n",
              "2       13311  14840  @BanyuKirik @Yuliadi_Mr @ganjarpranowo @KAI121...   \n",
              "3       28000  33979  Bansos itu disalurkan kepada masyarakat, agar ...   \n",
              "4       42135  48916       1597603508618160000 \"\"Survei Terbaru Indopol   \n",
              "\n",
              "   sentimen keyword                                           Cleaning  \\\n",
              "0         1   anies  e surya paloh tak masalah jika anies baswedan ...   \n",
              "1         1   anies                         boleh tdk sy piniam narasi   \n",
              "2         1  ganjar                         jadi buzzer anies aja drun   \n",
              "3         1  bansos  bansos itu salur kepada masyarakat agar bisa g...   \n",
              "4         1   anies                                survei baru indopol   \n",
              "\n",
              "                                         Casefolding  \\\n",
              "0  e surya paloh tak masalah jika anies baswedan ...   \n",
              "1                         boleh tdk sy piniam narasi   \n",
              "2                         jadi buzzer anies aja drun   \n",
              "3  bansos itu salur kepada masyarakat agar bisa g...   \n",
              "4                                survei baru indopol   \n",
              "\n",
              "                                             Alayfix  \\\n",
              "0  e surya paloh masalah anies baswedan pilih ahy...   \n",
              "1                               tdk sy piniam narasi   \n",
              "2                         jadi buzzer anies aja drun   \n",
              "3  bansos salur masyarakat guna untuk penuh butuh...   \n",
              "4                                survei baru indopol   \n",
              "\n",
              "                                           Tokenized  \\\n",
              "0  ['e', 'surya', 'paloh', 'masalah', 'anies', 'b...   \n",
              "1                  ['tdk', 'sy', 'piniam', 'narasi']   \n",
              "2         ['jadi', 'buzzer', 'anies', 'aja', 'drun']   \n",
              "3  ['bansos', 'salur', 'masyarakat', 'guna', 'unt...   \n",
              "4                      ['survei', 'baru', 'indopol']   \n",
              "\n",
              "                                         Change Word  \\\n",
              "0  ['e', 'surya', 'paloh', 'masalah', 'Anies', 'B...   \n",
              "1              ['tidak', 'saya', 'piniam', 'narasi']   \n",
              "2      ['jadi', 'buzzer', 'Anies', 'saja', 'kadrun']   \n",
              "3  ['bantuan', 'sosial', 'salur', 'masyarakat', '...   \n",
              "4                      ['survei', 'baru', 'indopol']   \n",
              "\n",
              "                                   Removed Stopwords  \\\n",
              "0  ['paloh', 'Anies', 'Baswedan', 'pilih', 'agus'...   \n",
              "1                               ['piniam', 'narasi']   \n",
              "2                      ['buzzer', 'Anies', 'kadrun']   \n",
              "3  ['bantuan', 'sosial', 'salur', 'masyarakat', '...   \n",
              "4                                         ['survei']   \n",
              "\n",
              "                                         Untokenized  \\\n",
              "0  paloh Anies Baswedan pilih agus harimurti yudh...   \n",
              "1                                      piniam narasi   \n",
              "2                                buzzer Anies kadrun   \n",
              "3  bantuan sosial salur masyarakat berguna penuh ...   \n",
              "4                                             survei   \n",
              "\n",
              "                                             Stemmed  \n",
              "0  paloh anies baswedan pilih agus harimurti yudh...  \n",
              "1                                      piniam narasi  \n",
              "2                                buzzer anies kadrun  \n",
              "3  bantu sosial salur masyarakat guna penuh butuh...  \n",
              "4                                             survei  "
            ],
            "text/html": [
              "\n",
              "  <div id=\"df-f7c329ad-46bf-4c01-8426-94a1ab4ea99e\" class=\"colab-df-container\">\n",
              "    <div>\n",
              "<style scoped>\n",
              "    .dataframe tbody tr th:only-of-type {\n",
              "        vertical-align: middle;\n",
              "    }\n",
              "\n",
              "    .dataframe tbody tr th {\n",
              "        vertical-align: top;\n",
              "    }\n",
              "\n",
              "    .dataframe thead th {\n",
              "        text-align: right;\n",
              "    }\n",
              "</style>\n",
              "<table border=\"1\" class=\"dataframe\">\n",
              "  <thead>\n",
              "    <tr style=\"text-align: right;\">\n",
              "      <th></th>\n",
              "      <th>Unnamed: 0</th>\n",
              "      <th>index</th>\n",
              "      <th>full_text</th>\n",
              "      <th>sentimen</th>\n",
              "      <th>keyword</th>\n",
              "      <th>Cleaning</th>\n",
              "      <th>Casefolding</th>\n",
              "      <th>Alayfix</th>\n",
              "      <th>Tokenized</th>\n",
              "      <th>Change Word</th>\n",
              "      <th>Removed Stopwords</th>\n",
              "      <th>Untokenized</th>\n",
              "      <th>Stemmed</th>\n",
              "    </tr>\n",
              "  </thead>\n",
              "  <tbody>\n",
              "    <tr>\n",
              "      <th>0</th>\n",
              "      <td>2906</td>\n",
              "      <td>3088</td>\n",
              "      <td>6342E+18;Surya Paloh Tak Masalah Jika Anies Ba...</td>\n",
              "      <td>1</td>\n",
              "      <td>anies</td>\n",
              "      <td>e surya paloh tak masalah jika anies baswedan ...</td>\n",
              "      <td>e surya paloh tak masalah jika anies baswedan ...</td>\n",
              "      <td>e surya paloh masalah anies baswedan pilih ahy...</td>\n",
              "      <td>['e', 'surya', 'paloh', 'masalah', 'anies', 'b...</td>\n",
              "      <td>['e', 'surya', 'paloh', 'masalah', 'Anies', 'B...</td>\n",
              "      <td>['paloh', 'Anies', 'Baswedan', 'pilih', 'agus'...</td>\n",
              "      <td>paloh Anies Baswedan pilih agus harimurti yudh...</td>\n",
              "      <td>paloh anies baswedan pilih agus harimurti yudh...</td>\n",
              "    </tr>\n",
              "    <tr>\n",
              "      <th>1</th>\n",
              "      <td>8722</td>\n",
              "      <td>9612</td>\n",
              "      <td>1708146700450440000 \"\"@lhayesno @ganjarpranowo...</td>\n",
              "      <td>1</td>\n",
              "      <td>anies</td>\n",
              "      <td>boleh tdk sy piniam narasi</td>\n",
              "      <td>boleh tdk sy piniam narasi</td>\n",
              "      <td>tdk sy piniam narasi</td>\n",
              "      <td>['tdk', 'sy', 'piniam', 'narasi']</td>\n",
              "      <td>['tidak', 'saya', 'piniam', 'narasi']</td>\n",
              "      <td>['piniam', 'narasi']</td>\n",
              "      <td>piniam narasi</td>\n",
              "      <td>piniam narasi</td>\n",
              "    </tr>\n",
              "    <tr>\n",
              "      <th>2</th>\n",
              "      <td>13311</td>\n",
              "      <td>14840</td>\n",
              "      <td>@BanyuKirik @Yuliadi_Mr @ganjarpranowo @KAI121...</td>\n",
              "      <td>1</td>\n",
              "      <td>ganjar</td>\n",
              "      <td>jadi buzzer anies aja drun</td>\n",
              "      <td>jadi buzzer anies aja drun</td>\n",
              "      <td>jadi buzzer anies aja drun</td>\n",
              "      <td>['jadi', 'buzzer', 'anies', 'aja', 'drun']</td>\n",
              "      <td>['jadi', 'buzzer', 'Anies', 'saja', 'kadrun']</td>\n",
              "      <td>['buzzer', 'Anies', 'kadrun']</td>\n",
              "      <td>buzzer Anies kadrun</td>\n",
              "      <td>buzzer anies kadrun</td>\n",
              "    </tr>\n",
              "    <tr>\n",
              "      <th>3</th>\n",
              "      <td>28000</td>\n",
              "      <td>33979</td>\n",
              "      <td>Bansos itu disalurkan kepada masyarakat, agar ...</td>\n",
              "      <td>1</td>\n",
              "      <td>bansos</td>\n",
              "      <td>bansos itu salur kepada masyarakat agar bisa g...</td>\n",
              "      <td>bansos itu salur kepada masyarakat agar bisa g...</td>\n",
              "      <td>bansos salur masyarakat guna untuk penuh butuh...</td>\n",
              "      <td>['bansos', 'salur', 'masyarakat', 'guna', 'unt...</td>\n",
              "      <td>['bantuan', 'sosial', 'salur', 'masyarakat', '...</td>\n",
              "      <td>['bantuan', 'sosial', 'salur', 'masyarakat', '...</td>\n",
              "      <td>bantuan sosial salur masyarakat berguna penuh ...</td>\n",
              "      <td>bantu sosial salur masyarakat guna penuh butuh...</td>\n",
              "    </tr>\n",
              "    <tr>\n",
              "      <th>4</th>\n",
              "      <td>42135</td>\n",
              "      <td>48916</td>\n",
              "      <td>1597603508618160000 \"\"Survei Terbaru Indopol</td>\n",
              "      <td>1</td>\n",
              "      <td>anies</td>\n",
              "      <td>survei baru indopol</td>\n",
              "      <td>survei baru indopol</td>\n",
              "      <td>survei baru indopol</td>\n",
              "      <td>['survei', 'baru', 'indopol']</td>\n",
              "      <td>['survei', 'baru', 'indopol']</td>\n",
              "      <td>['survei']</td>\n",
              "      <td>survei</td>\n",
              "      <td>survei</td>\n",
              "    </tr>\n",
              "  </tbody>\n",
              "</table>\n",
              "</div>\n",
              "    <div class=\"colab-df-buttons\">\n",
              "\n",
              "  <div class=\"colab-df-container\">\n",
              "    <button class=\"colab-df-convert\" onclick=\"convertToInteractive('df-f7c329ad-46bf-4c01-8426-94a1ab4ea99e')\"\n",
              "            title=\"Convert this dataframe to an interactive table.\"\n",
              "            style=\"display:none;\">\n",
              "\n",
              "  <svg xmlns=\"http://www.w3.org/2000/svg\" height=\"24px\" viewBox=\"0 -960 960 960\">\n",
              "    <path d=\"M120-120v-720h720v720H120Zm60-500h600v-160H180v160Zm220 220h160v-160H400v160Zm0 220h160v-160H400v160ZM180-400h160v-160H180v160Zm440 0h160v-160H620v160ZM180-180h160v-160H180v160Zm440 0h160v-160H620v160Z\"/>\n",
              "  </svg>\n",
              "    </button>\n",
              "\n",
              "  <style>\n",
              "    .colab-df-container {\n",
              "      display:flex;\n",
              "      gap: 12px;\n",
              "    }\n",
              "\n",
              "    .colab-df-convert {\n",
              "      background-color: #E8F0FE;\n",
              "      border: none;\n",
              "      border-radius: 50%;\n",
              "      cursor: pointer;\n",
              "      display: none;\n",
              "      fill: #1967D2;\n",
              "      height: 32px;\n",
              "      padding: 0 0 0 0;\n",
              "      width: 32px;\n",
              "    }\n",
              "\n",
              "    .colab-df-convert:hover {\n",
              "      background-color: #E2EBFA;\n",
              "      box-shadow: 0px 1px 2px rgba(60, 64, 67, 0.3), 0px 1px 3px 1px rgba(60, 64, 67, 0.15);\n",
              "      fill: #174EA6;\n",
              "    }\n",
              "\n",
              "    .colab-df-buttons div {\n",
              "      margin-bottom: 4px;\n",
              "    }\n",
              "\n",
              "    [theme=dark] .colab-df-convert {\n",
              "      background-color: #3B4455;\n",
              "      fill: #D2E3FC;\n",
              "    }\n",
              "\n",
              "    [theme=dark] .colab-df-convert:hover {\n",
              "      background-color: #434B5C;\n",
              "      box-shadow: 0px 1px 3px 1px rgba(0, 0, 0, 0.15);\n",
              "      filter: drop-shadow(0px 1px 2px rgba(0, 0, 0, 0.3));\n",
              "      fill: #FFFFFF;\n",
              "    }\n",
              "  </style>\n",
              "\n",
              "    <script>\n",
              "      const buttonEl =\n",
              "        document.querySelector('#df-f7c329ad-46bf-4c01-8426-94a1ab4ea99e button.colab-df-convert');\n",
              "      buttonEl.style.display =\n",
              "        google.colab.kernel.accessAllowed ? 'block' : 'none';\n",
              "\n",
              "      async function convertToInteractive(key) {\n",
              "        const element = document.querySelector('#df-f7c329ad-46bf-4c01-8426-94a1ab4ea99e');\n",
              "        const dataTable =\n",
              "          await google.colab.kernel.invokeFunction('convertToInteractive',\n",
              "                                                    [key], {});\n",
              "        if (!dataTable) return;\n",
              "\n",
              "        const docLinkHtml = 'Like what you see? Visit the ' +\n",
              "          '<a target=\"_blank\" href=https://colab.research.google.com/notebooks/data_table.ipynb>data table notebook</a>'\n",
              "          + ' to learn more about interactive tables.';\n",
              "        element.innerHTML = '';\n",
              "        dataTable['output_type'] = 'display_data';\n",
              "        await google.colab.output.renderOutput(dataTable, element);\n",
              "        const docLink = document.createElement('div');\n",
              "        docLink.innerHTML = docLinkHtml;\n",
              "        element.appendChild(docLink);\n",
              "      }\n",
              "    </script>\n",
              "  </div>\n",
              "\n",
              "\n",
              "<div id=\"df-b5a0d056-c99f-4133-b253-bd651db67147\">\n",
              "  <button class=\"colab-df-quickchart\" onclick=\"quickchart('df-b5a0d056-c99f-4133-b253-bd651db67147')\"\n",
              "            title=\"Suggest charts\"\n",
              "            style=\"display:none;\">\n",
              "\n",
              "<svg xmlns=\"http://www.w3.org/2000/svg\" height=\"24px\"viewBox=\"0 0 24 24\"\n",
              "     width=\"24px\">\n",
              "    <g>\n",
              "        <path d=\"M19 3H5c-1.1 0-2 .9-2 2v14c0 1.1.9 2 2 2h14c1.1 0 2-.9 2-2V5c0-1.1-.9-2-2-2zM9 17H7v-7h2v7zm4 0h-2V7h2v10zm4 0h-2v-4h2v4z\"/>\n",
              "    </g>\n",
              "</svg>\n",
              "  </button>\n",
              "\n",
              "<style>\n",
              "  .colab-df-quickchart {\n",
              "      --bg-color: #E8F0FE;\n",
              "      --fill-color: #1967D2;\n",
              "      --hover-bg-color: #E2EBFA;\n",
              "      --hover-fill-color: #174EA6;\n",
              "      --disabled-fill-color: #AAA;\n",
              "      --disabled-bg-color: #DDD;\n",
              "  }\n",
              "\n",
              "  [theme=dark] .colab-df-quickchart {\n",
              "      --bg-color: #3B4455;\n",
              "      --fill-color: #D2E3FC;\n",
              "      --hover-bg-color: #434B5C;\n",
              "      --hover-fill-color: #FFFFFF;\n",
              "      --disabled-bg-color: #3B4455;\n",
              "      --disabled-fill-color: #666;\n",
              "  }\n",
              "\n",
              "  .colab-df-quickchart {\n",
              "    background-color: var(--bg-color);\n",
              "    border: none;\n",
              "    border-radius: 50%;\n",
              "    cursor: pointer;\n",
              "    display: none;\n",
              "    fill: var(--fill-color);\n",
              "    height: 32px;\n",
              "    padding: 0;\n",
              "    width: 32px;\n",
              "  }\n",
              "\n",
              "  .colab-df-quickchart:hover {\n",
              "    background-color: var(--hover-bg-color);\n",
              "    box-shadow: 0 1px 2px rgba(60, 64, 67, 0.3), 0 1px 3px 1px rgba(60, 64, 67, 0.15);\n",
              "    fill: var(--button-hover-fill-color);\n",
              "  }\n",
              "\n",
              "  .colab-df-quickchart-complete:disabled,\n",
              "  .colab-df-quickchart-complete:disabled:hover {\n",
              "    background-color: var(--disabled-bg-color);\n",
              "    fill: var(--disabled-fill-color);\n",
              "    box-shadow: none;\n",
              "  }\n",
              "\n",
              "  .colab-df-spinner {\n",
              "    border: 2px solid var(--fill-color);\n",
              "    border-color: transparent;\n",
              "    border-bottom-color: var(--fill-color);\n",
              "    animation:\n",
              "      spin 1s steps(1) infinite;\n",
              "  }\n",
              "\n",
              "  @keyframes spin {\n",
              "    0% {\n",
              "      border-color: transparent;\n",
              "      border-bottom-color: var(--fill-color);\n",
              "      border-left-color: var(--fill-color);\n",
              "    }\n",
              "    20% {\n",
              "      border-color: transparent;\n",
              "      border-left-color: var(--fill-color);\n",
              "      border-top-color: var(--fill-color);\n",
              "    }\n",
              "    30% {\n",
              "      border-color: transparent;\n",
              "      border-left-color: var(--fill-color);\n",
              "      border-top-color: var(--fill-color);\n",
              "      border-right-color: var(--fill-color);\n",
              "    }\n",
              "    40% {\n",
              "      border-color: transparent;\n",
              "      border-right-color: var(--fill-color);\n",
              "      border-top-color: var(--fill-color);\n",
              "    }\n",
              "    60% {\n",
              "      border-color: transparent;\n",
              "      border-right-color: var(--fill-color);\n",
              "    }\n",
              "    80% {\n",
              "      border-color: transparent;\n",
              "      border-right-color: var(--fill-color);\n",
              "      border-bottom-color: var(--fill-color);\n",
              "    }\n",
              "    90% {\n",
              "      border-color: transparent;\n",
              "      border-bottom-color: var(--fill-color);\n",
              "    }\n",
              "  }\n",
              "</style>\n",
              "\n",
              "  <script>\n",
              "    async function quickchart(key) {\n",
              "      const quickchartButtonEl =\n",
              "        document.querySelector('#' + key + ' button');\n",
              "      quickchartButtonEl.disabled = true;  // To prevent multiple clicks.\n",
              "      quickchartButtonEl.classList.add('colab-df-spinner');\n",
              "      try {\n",
              "        const charts = await google.colab.kernel.invokeFunction(\n",
              "            'suggestCharts', [key], {});\n",
              "      } catch (error) {\n",
              "        console.error('Error during call to suggestCharts:', error);\n",
              "      }\n",
              "      quickchartButtonEl.classList.remove('colab-df-spinner');\n",
              "      quickchartButtonEl.classList.add('colab-df-quickchart-complete');\n",
              "    }\n",
              "    (() => {\n",
              "      let quickchartButtonEl =\n",
              "        document.querySelector('#df-b5a0d056-c99f-4133-b253-bd651db67147 button');\n",
              "      quickchartButtonEl.style.display =\n",
              "        google.colab.kernel.accessAllowed ? 'block' : 'none';\n",
              "    })();\n",
              "  </script>\n",
              "</div>\n",
              "    </div>\n",
              "  </div>\n"
            ]
          },
          "metadata": {},
          "execution_count": 4
        }
      ]
    },
    {
      "cell_type": "code",
      "source": [
        "filtered_df = df[df['sentimen'].isin([0, 2])]\n",
        "df = filtered_df\n",
        "df['sentimen'].value_counts()"
      ],
      "metadata": {
        "colab": {
          "base_uri": "https://localhost:8080/"
        },
        "id": "pOCXcOPfhqRA",
        "outputId": "7f41e46a-0b62-4858-d4c2-38bf648b2859"
      },
      "execution_count": null,
      "outputs": [
        {
          "output_type": "execute_result",
          "data": {
            "text/plain": [
              "2    21866\n",
              "0    15525\n",
              "Name: sentimen, dtype: int64"
            ]
          },
          "metadata": {},
          "execution_count": 5
        }
      ]
    },
    {
      "cell_type": "code",
      "source": [
        "df.dropna(inplace=True)"
      ],
      "metadata": {
        "id": "8Xs-RGBl2ty2"
      },
      "execution_count": null,
      "outputs": []
    },
    {
      "cell_type": "code",
      "source": [
        "df_copy = df[['Stemmed','sentimen']]\n",
        "df_copy.head()"
      ],
      "metadata": {
        "colab": {
          "base_uri": "https://localhost:8080/",
          "height": 206
        },
        "id": "IhH7egl42unu",
        "outputId": "299cebd7-dc22-4e68-fdad-990a5760741c"
      },
      "execution_count": null,
      "outputs": [
        {
          "output_type": "execute_result",
          "data": {
            "text/plain": [
              "                                                 Stemmed  sentimen\n",
              "18616                              viral generasi bohong         0\n",
              "18617   rusak nama anies baswedan jelek jelek nama anies         0\n",
              "18618                                            bengkak         0\n",
              "18619                                 kafir halang allah         0\n",
              "18620  wajib presiden rakyat indonesia dukung preside...         0"
            ],
            "text/html": [
              "\n",
              "  <div id=\"df-05d47de3-c29c-4ff5-862a-d24f55d51121\" class=\"colab-df-container\">\n",
              "    <div>\n",
              "<style scoped>\n",
              "    .dataframe tbody tr th:only-of-type {\n",
              "        vertical-align: middle;\n",
              "    }\n",
              "\n",
              "    .dataframe tbody tr th {\n",
              "        vertical-align: top;\n",
              "    }\n",
              "\n",
              "    .dataframe thead th {\n",
              "        text-align: right;\n",
              "    }\n",
              "</style>\n",
              "<table border=\"1\" class=\"dataframe\">\n",
              "  <thead>\n",
              "    <tr style=\"text-align: right;\">\n",
              "      <th></th>\n",
              "      <th>Stemmed</th>\n",
              "      <th>sentimen</th>\n",
              "    </tr>\n",
              "  </thead>\n",
              "  <tbody>\n",
              "    <tr>\n",
              "      <th>18616</th>\n",
              "      <td>viral generasi bohong</td>\n",
              "      <td>0</td>\n",
              "    </tr>\n",
              "    <tr>\n",
              "      <th>18617</th>\n",
              "      <td>rusak nama anies baswedan jelek jelek nama anies</td>\n",
              "      <td>0</td>\n",
              "    </tr>\n",
              "    <tr>\n",
              "      <th>18618</th>\n",
              "      <td>bengkak</td>\n",
              "      <td>0</td>\n",
              "    </tr>\n",
              "    <tr>\n",
              "      <th>18619</th>\n",
              "      <td>kafir halang allah</td>\n",
              "      <td>0</td>\n",
              "    </tr>\n",
              "    <tr>\n",
              "      <th>18620</th>\n",
              "      <td>wajib presiden rakyat indonesia dukung preside...</td>\n",
              "      <td>0</td>\n",
              "    </tr>\n",
              "  </tbody>\n",
              "</table>\n",
              "</div>\n",
              "    <div class=\"colab-df-buttons\">\n",
              "\n",
              "  <div class=\"colab-df-container\">\n",
              "    <button class=\"colab-df-convert\" onclick=\"convertToInteractive('df-05d47de3-c29c-4ff5-862a-d24f55d51121')\"\n",
              "            title=\"Convert this dataframe to an interactive table.\"\n",
              "            style=\"display:none;\">\n",
              "\n",
              "  <svg xmlns=\"http://www.w3.org/2000/svg\" height=\"24px\" viewBox=\"0 -960 960 960\">\n",
              "    <path d=\"M120-120v-720h720v720H120Zm60-500h600v-160H180v160Zm220 220h160v-160H400v160Zm0 220h160v-160H400v160ZM180-400h160v-160H180v160Zm440 0h160v-160H620v160ZM180-180h160v-160H180v160Zm440 0h160v-160H620v160Z\"/>\n",
              "  </svg>\n",
              "    </button>\n",
              "\n",
              "  <style>\n",
              "    .colab-df-container {\n",
              "      display:flex;\n",
              "      gap: 12px;\n",
              "    }\n",
              "\n",
              "    .colab-df-convert {\n",
              "      background-color: #E8F0FE;\n",
              "      border: none;\n",
              "      border-radius: 50%;\n",
              "      cursor: pointer;\n",
              "      display: none;\n",
              "      fill: #1967D2;\n",
              "      height: 32px;\n",
              "      padding: 0 0 0 0;\n",
              "      width: 32px;\n",
              "    }\n",
              "\n",
              "    .colab-df-convert:hover {\n",
              "      background-color: #E2EBFA;\n",
              "      box-shadow: 0px 1px 2px rgba(60, 64, 67, 0.3), 0px 1px 3px 1px rgba(60, 64, 67, 0.15);\n",
              "      fill: #174EA6;\n",
              "    }\n",
              "\n",
              "    .colab-df-buttons div {\n",
              "      margin-bottom: 4px;\n",
              "    }\n",
              "\n",
              "    [theme=dark] .colab-df-convert {\n",
              "      background-color: #3B4455;\n",
              "      fill: #D2E3FC;\n",
              "    }\n",
              "\n",
              "    [theme=dark] .colab-df-convert:hover {\n",
              "      background-color: #434B5C;\n",
              "      box-shadow: 0px 1px 3px 1px rgba(0, 0, 0, 0.15);\n",
              "      filter: drop-shadow(0px 1px 2px rgba(0, 0, 0, 0.3));\n",
              "      fill: #FFFFFF;\n",
              "    }\n",
              "  </style>\n",
              "\n",
              "    <script>\n",
              "      const buttonEl =\n",
              "        document.querySelector('#df-05d47de3-c29c-4ff5-862a-d24f55d51121 button.colab-df-convert');\n",
              "      buttonEl.style.display =\n",
              "        google.colab.kernel.accessAllowed ? 'block' : 'none';\n",
              "\n",
              "      async function convertToInteractive(key) {\n",
              "        const element = document.querySelector('#df-05d47de3-c29c-4ff5-862a-d24f55d51121');\n",
              "        const dataTable =\n",
              "          await google.colab.kernel.invokeFunction('convertToInteractive',\n",
              "                                                    [key], {});\n",
              "        if (!dataTable) return;\n",
              "\n",
              "        const docLinkHtml = 'Like what you see? Visit the ' +\n",
              "          '<a target=\"_blank\" href=https://colab.research.google.com/notebooks/data_table.ipynb>data table notebook</a>'\n",
              "          + ' to learn more about interactive tables.';\n",
              "        element.innerHTML = '';\n",
              "        dataTable['output_type'] = 'display_data';\n",
              "        await google.colab.output.renderOutput(dataTable, element);\n",
              "        const docLink = document.createElement('div');\n",
              "        docLink.innerHTML = docLinkHtml;\n",
              "        element.appendChild(docLink);\n",
              "      }\n",
              "    </script>\n",
              "  </div>\n",
              "\n",
              "\n",
              "<div id=\"df-2e774c48-7177-4168-9de3-1afe642bbb2f\">\n",
              "  <button class=\"colab-df-quickchart\" onclick=\"quickchart('df-2e774c48-7177-4168-9de3-1afe642bbb2f')\"\n",
              "            title=\"Suggest charts\"\n",
              "            style=\"display:none;\">\n",
              "\n",
              "<svg xmlns=\"http://www.w3.org/2000/svg\" height=\"24px\"viewBox=\"0 0 24 24\"\n",
              "     width=\"24px\">\n",
              "    <g>\n",
              "        <path d=\"M19 3H5c-1.1 0-2 .9-2 2v14c0 1.1.9 2 2 2h14c1.1 0 2-.9 2-2V5c0-1.1-.9-2-2-2zM9 17H7v-7h2v7zm4 0h-2V7h2v10zm4 0h-2v-4h2v4z\"/>\n",
              "    </g>\n",
              "</svg>\n",
              "  </button>\n",
              "\n",
              "<style>\n",
              "  .colab-df-quickchart {\n",
              "      --bg-color: #E8F0FE;\n",
              "      --fill-color: #1967D2;\n",
              "      --hover-bg-color: #E2EBFA;\n",
              "      --hover-fill-color: #174EA6;\n",
              "      --disabled-fill-color: #AAA;\n",
              "      --disabled-bg-color: #DDD;\n",
              "  }\n",
              "\n",
              "  [theme=dark] .colab-df-quickchart {\n",
              "      --bg-color: #3B4455;\n",
              "      --fill-color: #D2E3FC;\n",
              "      --hover-bg-color: #434B5C;\n",
              "      --hover-fill-color: #FFFFFF;\n",
              "      --disabled-bg-color: #3B4455;\n",
              "      --disabled-fill-color: #666;\n",
              "  }\n",
              "\n",
              "  .colab-df-quickchart {\n",
              "    background-color: var(--bg-color);\n",
              "    border: none;\n",
              "    border-radius: 50%;\n",
              "    cursor: pointer;\n",
              "    display: none;\n",
              "    fill: var(--fill-color);\n",
              "    height: 32px;\n",
              "    padding: 0;\n",
              "    width: 32px;\n",
              "  }\n",
              "\n",
              "  .colab-df-quickchart:hover {\n",
              "    background-color: var(--hover-bg-color);\n",
              "    box-shadow: 0 1px 2px rgba(60, 64, 67, 0.3), 0 1px 3px 1px rgba(60, 64, 67, 0.15);\n",
              "    fill: var(--button-hover-fill-color);\n",
              "  }\n",
              "\n",
              "  .colab-df-quickchart-complete:disabled,\n",
              "  .colab-df-quickchart-complete:disabled:hover {\n",
              "    background-color: var(--disabled-bg-color);\n",
              "    fill: var(--disabled-fill-color);\n",
              "    box-shadow: none;\n",
              "  }\n",
              "\n",
              "  .colab-df-spinner {\n",
              "    border: 2px solid var(--fill-color);\n",
              "    border-color: transparent;\n",
              "    border-bottom-color: var(--fill-color);\n",
              "    animation:\n",
              "      spin 1s steps(1) infinite;\n",
              "  }\n",
              "\n",
              "  @keyframes spin {\n",
              "    0% {\n",
              "      border-color: transparent;\n",
              "      border-bottom-color: var(--fill-color);\n",
              "      border-left-color: var(--fill-color);\n",
              "    }\n",
              "    20% {\n",
              "      border-color: transparent;\n",
              "      border-left-color: var(--fill-color);\n",
              "      border-top-color: var(--fill-color);\n",
              "    }\n",
              "    30% {\n",
              "      border-color: transparent;\n",
              "      border-left-color: var(--fill-color);\n",
              "      border-top-color: var(--fill-color);\n",
              "      border-right-color: var(--fill-color);\n",
              "    }\n",
              "    40% {\n",
              "      border-color: transparent;\n",
              "      border-right-color: var(--fill-color);\n",
              "      border-top-color: var(--fill-color);\n",
              "    }\n",
              "    60% {\n",
              "      border-color: transparent;\n",
              "      border-right-color: var(--fill-color);\n",
              "    }\n",
              "    80% {\n",
              "      border-color: transparent;\n",
              "      border-right-color: var(--fill-color);\n",
              "      border-bottom-color: var(--fill-color);\n",
              "    }\n",
              "    90% {\n",
              "      border-color: transparent;\n",
              "      border-bottom-color: var(--fill-color);\n",
              "    }\n",
              "  }\n",
              "</style>\n",
              "\n",
              "  <script>\n",
              "    async function quickchart(key) {\n",
              "      const quickchartButtonEl =\n",
              "        document.querySelector('#' + key + ' button');\n",
              "      quickchartButtonEl.disabled = true;  // To prevent multiple clicks.\n",
              "      quickchartButtonEl.classList.add('colab-df-spinner');\n",
              "      try {\n",
              "        const charts = await google.colab.kernel.invokeFunction(\n",
              "            'suggestCharts', [key], {});\n",
              "      } catch (error) {\n",
              "        console.error('Error during call to suggestCharts:', error);\n",
              "      }\n",
              "      quickchartButtonEl.classList.remove('colab-df-spinner');\n",
              "      quickchartButtonEl.classList.add('colab-df-quickchart-complete');\n",
              "    }\n",
              "    (() => {\n",
              "      let quickchartButtonEl =\n",
              "        document.querySelector('#df-2e774c48-7177-4168-9de3-1afe642bbb2f button');\n",
              "      quickchartButtonEl.style.display =\n",
              "        google.colab.kernel.accessAllowed ? 'block' : 'none';\n",
              "    })();\n",
              "  </script>\n",
              "</div>\n",
              "    </div>\n",
              "  </div>\n"
            ]
          },
          "metadata": {},
          "execution_count": 7
        }
      ]
    },
    {
      "cell_type": "code",
      "source": [
        "review = df[\"Stemmed\"]\n",
        "label = df['sentimen']"
      ],
      "metadata": {
        "id": "ftahN2hb3Ay0"
      },
      "execution_count": null,
      "outputs": []
    },
    {
      "cell_type": "code",
      "source": [
        "from sklearn.feature_extraction.text import TfidfVectorizer\n",
        "\n",
        "vectors= TfidfVectorizer(min_df=7, ngram_range=(1,2), max_features = 5000, norm='l1')\n",
        "vectors"
      ],
      "metadata": {
        "colab": {
          "base_uri": "https://localhost:8080/",
          "height": 75
        },
        "id": "iSTXQfi43EFh",
        "outputId": "87b7e7e6-91c2-44ca-fb6f-b3df58a131f5"
      },
      "execution_count": null,
      "outputs": [
        {
          "output_type": "execute_result",
          "data": {
            "text/plain": [
              "TfidfVectorizer(max_features=5000, min_df=7, ngram_range=(1, 2), norm='l1')"
            ],
            "text/html": [
              "<style>#sk-container-id-1 {color: black;background-color: white;}#sk-container-id-1 pre{padding: 0;}#sk-container-id-1 div.sk-toggleable {background-color: white;}#sk-container-id-1 label.sk-toggleable__label {cursor: pointer;display: block;width: 100%;margin-bottom: 0;padding: 0.3em;box-sizing: border-box;text-align: center;}#sk-container-id-1 label.sk-toggleable__label-arrow:before {content: \"▸\";float: left;margin-right: 0.25em;color: #696969;}#sk-container-id-1 label.sk-toggleable__label-arrow:hover:before {color: black;}#sk-container-id-1 div.sk-estimator:hover label.sk-toggleable__label-arrow:before {color: black;}#sk-container-id-1 div.sk-toggleable__content {max-height: 0;max-width: 0;overflow: hidden;text-align: left;background-color: #f0f8ff;}#sk-container-id-1 div.sk-toggleable__content pre {margin: 0.2em;color: black;border-radius: 0.25em;background-color: #f0f8ff;}#sk-container-id-1 input.sk-toggleable__control:checked~div.sk-toggleable__content {max-height: 200px;max-width: 100%;overflow: auto;}#sk-container-id-1 input.sk-toggleable__control:checked~label.sk-toggleable__label-arrow:before {content: \"▾\";}#sk-container-id-1 div.sk-estimator input.sk-toggleable__control:checked~label.sk-toggleable__label {background-color: #d4ebff;}#sk-container-id-1 div.sk-label input.sk-toggleable__control:checked~label.sk-toggleable__label {background-color: #d4ebff;}#sk-container-id-1 input.sk-hidden--visually {border: 0;clip: rect(1px 1px 1px 1px);clip: rect(1px, 1px, 1px, 1px);height: 1px;margin: -1px;overflow: hidden;padding: 0;position: absolute;width: 1px;}#sk-container-id-1 div.sk-estimator {font-family: monospace;background-color: #f0f8ff;border: 1px dotted black;border-radius: 0.25em;box-sizing: border-box;margin-bottom: 0.5em;}#sk-container-id-1 div.sk-estimator:hover {background-color: #d4ebff;}#sk-container-id-1 div.sk-parallel-item::after {content: \"\";width: 100%;border-bottom: 1px solid gray;flex-grow: 1;}#sk-container-id-1 div.sk-label:hover label.sk-toggleable__label {background-color: #d4ebff;}#sk-container-id-1 div.sk-serial::before {content: \"\";position: absolute;border-left: 1px solid gray;box-sizing: border-box;top: 0;bottom: 0;left: 50%;z-index: 0;}#sk-container-id-1 div.sk-serial {display: flex;flex-direction: column;align-items: center;background-color: white;padding-right: 0.2em;padding-left: 0.2em;position: relative;}#sk-container-id-1 div.sk-item {position: relative;z-index: 1;}#sk-container-id-1 div.sk-parallel {display: flex;align-items: stretch;justify-content: center;background-color: white;position: relative;}#sk-container-id-1 div.sk-item::before, #sk-container-id-1 div.sk-parallel-item::before {content: \"\";position: absolute;border-left: 1px solid gray;box-sizing: border-box;top: 0;bottom: 0;left: 50%;z-index: -1;}#sk-container-id-1 div.sk-parallel-item {display: flex;flex-direction: column;z-index: 1;position: relative;background-color: white;}#sk-container-id-1 div.sk-parallel-item:first-child::after {align-self: flex-end;width: 50%;}#sk-container-id-1 div.sk-parallel-item:last-child::after {align-self: flex-start;width: 50%;}#sk-container-id-1 div.sk-parallel-item:only-child::after {width: 0;}#sk-container-id-1 div.sk-dashed-wrapped {border: 1px dashed gray;margin: 0 0.4em 0.5em 0.4em;box-sizing: border-box;padding-bottom: 0.4em;background-color: white;}#sk-container-id-1 div.sk-label label {font-family: monospace;font-weight: bold;display: inline-block;line-height: 1.2em;}#sk-container-id-1 div.sk-label-container {text-align: center;}#sk-container-id-1 div.sk-container {/* jupyter's `normalize.less` sets `[hidden] { display: none; }` but bootstrap.min.css set `[hidden] { display: none !important; }` so we also need the `!important` here to be able to override the default hidden behavior on the sphinx rendered scikit-learn.org. See: https://github.com/scikit-learn/scikit-learn/issues/21755 */display: inline-block !important;position: relative;}#sk-container-id-1 div.sk-text-repr-fallback {display: none;}</style><div id=\"sk-container-id-1\" class=\"sk-top-container\"><div class=\"sk-text-repr-fallback\"><pre>TfidfVectorizer(max_features=5000, min_df=7, ngram_range=(1, 2), norm=&#x27;l1&#x27;)</pre><b>In a Jupyter environment, please rerun this cell to show the HTML representation or trust the notebook. <br />On GitHub, the HTML representation is unable to render, please try loading this page with nbviewer.org.</b></div><div class=\"sk-container\" hidden><div class=\"sk-item\"><div class=\"sk-estimator sk-toggleable\"><input class=\"sk-toggleable__control sk-hidden--visually\" id=\"sk-estimator-id-1\" type=\"checkbox\" checked><label for=\"sk-estimator-id-1\" class=\"sk-toggleable__label sk-toggleable__label-arrow\">TfidfVectorizer</label><div class=\"sk-toggleable__content\"><pre>TfidfVectorizer(max_features=5000, min_df=7, ngram_range=(1, 2), norm=&#x27;l1&#x27;)</pre></div></div></div></div></div>"
            ]
          },
          "metadata": {},
          "execution_count": 9
        }
      ]
    },
    {
      "cell_type": "code",
      "source": [
        "tfidf = vectors.fit_transform(review.astype(str))\n",
        "tfidf"
      ],
      "metadata": {
        "colab": {
          "base_uri": "https://localhost:8080/"
        },
        "id": "MUuW_PXr3Nj3",
        "outputId": "8ca7b0de-b807-41a2-dbfd-04bd58b09c07"
      },
      "execution_count": null,
      "outputs": [
        {
          "output_type": "execute_result",
          "data": {
            "text/plain": [
              "<37391x5000 sparse matrix of type '<class 'numpy.float64'>'\n",
              "\twith 416095 stored elements in Compressed Sparse Row format>"
            ]
          },
          "metadata": {},
          "execution_count": 10
        }
      ]
    },
    {
      "cell_type": "code",
      "source": [
        "df_tfidf = tfidf.copy()"
      ],
      "metadata": {
        "id": "HmNPBmCy3Orf"
      },
      "execution_count": null,
      "outputs": []
    },
    {
      "cell_type": "code",
      "source": [
        "label.value_counts()"
      ],
      "metadata": {
        "colab": {
          "base_uri": "https://localhost:8080/"
        },
        "id": "hOL88B9CnZkk",
        "outputId": "b7c2974c-19f5-4390-9a7c-0a85db27e505"
      },
      "execution_count": null,
      "outputs": [
        {
          "output_type": "execute_result",
          "data": {
            "text/plain": [
              "2    21866\n",
              "0    15525\n",
              "Name: sentimen, dtype: int64"
            ]
          },
          "metadata": {},
          "execution_count": 12
        }
      ]
    },
    {
      "cell_type": "code",
      "source": [
        "x = tfidf.copy()\n",
        "y = df['sentimen']"
      ],
      "metadata": {
        "id": "b2yX7sqAxXsk"
      },
      "execution_count": null,
      "outputs": []
    },
    {
      "cell_type": "code",
      "source": [
        "from sklearn.model_selection import train_test_split\n",
        "x_train, x_test, y_train, y_test = train_test_split(x,y, test_size = 0.1, random_state=42)"
      ],
      "metadata": {
        "id": "EDxIlmdR3gwg"
      },
      "execution_count": null,
      "outputs": []
    },
    {
      "cell_type": "code",
      "source": [
        "y_train.value_counts()"
      ],
      "metadata": {
        "colab": {
          "base_uri": "https://localhost:8080/"
        },
        "id": "ScqfoIJr3iU9",
        "outputId": "c38b8366-1414-43ff-a59c-f86389f9e193"
      },
      "execution_count": null,
      "outputs": [
        {
          "output_type": "execute_result",
          "data": {
            "text/plain": [
              "2    19688\n",
              "0    13963\n",
              "Name: sentimen, dtype: int64"
            ]
          },
          "metadata": {},
          "execution_count": 17
        }
      ]
    },
    {
      "cell_type": "code",
      "source": [
        "y_test.value_counts()"
      ],
      "metadata": {
        "colab": {
          "base_uri": "https://localhost:8080/"
        },
        "id": "BDy7gmE2noNC",
        "outputId": "49b03d3e-52ea-4093-d72d-40c6da6b0d64"
      },
      "execution_count": null,
      "outputs": [
        {
          "output_type": "execute_result",
          "data": {
            "text/plain": [
              "2    2178\n",
              "0    1562\n",
              "Name: sentimen, dtype: int64"
            ]
          },
          "metadata": {},
          "execution_count": 18
        }
      ]
    },
    {
      "cell_type": "code",
      "source": [
        "print(x_train.shape)"
      ],
      "metadata": {
        "colab": {
          "base_uri": "https://localhost:8080/"
        },
        "id": "iYivZdQ-wydO",
        "outputId": "99fd01e1-ad05-47dc-8910-3d3a05d33b55"
      },
      "execution_count": null,
      "outputs": [
        {
          "output_type": "stream",
          "name": "stdout",
          "text": [
            "(33651, 5000)\n"
          ]
        }
      ]
    },
    {
      "cell_type": "markdown",
      "source": [
        "## LOAD CORPUS WORD2VEC"
      ],
      "metadata": {
        "id": "ljnLgl1v--qd"
      }
    },
    {
      "cell_type": "code",
      "source": [
        "from gensim.models import Word2Vec\n",
        "from imblearn.over_sampling import SMOTE\n",
        "from sklearn.metrics import classification_report, confusion_matrix, accuracy_score, f1_score, precision_score, recall_score\n",
        "\n",
        "from sklearn.preprocessing import OneHotEncoder\n",
        "from sklearn.metrics import roc_auc_score"
      ],
      "metadata": {
        "id": "S9n8l_6k1tZ-"
      },
      "execution_count": null,
      "outputs": []
    },
    {
      "cell_type": "code",
      "source": [
        "from google.colab import drive\n",
        "#berita+tweet\n",
        "#!gdown \"1UbgKJqGaBo0nUjB1KdGszVdUpZXtciOh\"\n",
        "#!gdown \"1CUkGeGAxJIX_ObHzKSdS2epjYSsflmBJ\"\n",
        "#!gdown \"1gFNEEIrwwlsoxi0FNKVJLkrijhzncPmA\"\n",
        "#berita\n",
        "!gdown \"1lOAO2PE1vm-CWg1dGfv8b4X12vWirLFU\"\n",
        "!gdown \"1kyNC3SOjerhvGhFwsV3B3AdOUqOBBm62\"\n",
        "!gdown \"11gE4o7nrT5x6FSw-cUG-XoY3FIEi52vi\"\n",
        "#tweet\n",
        "#!gdown \"1lR6aLe-FZg_riF45zGtBrP91qRWk17h4\""
      ],
      "metadata": {
        "colab": {
          "base_uri": "https://localhost:8080/"
        },
        "id": "KP0NQd5VyaMu",
        "outputId": "3327e044-369b-491a-e571-6e227628b5a7"
      },
      "execution_count": null,
      "outputs": [
        {
          "output_type": "stream",
          "name": "stdout",
          "text": [
            "Downloading...\n",
            "From: https://drive.google.com/uc?id=1lOAO2PE1vm-CWg1dGfv8b4X12vWirLFU\n",
            "To: /content/w2v_berita.model\n",
            "100% 8.23M/8.23M [00:00<00:00, 68.6MB/s]\n",
            "Downloading...\n",
            "From (original): https://drive.google.com/uc?id=1kyNC3SOjerhvGhFwsV3B3AdOUqOBBm62\n",
            "From (redirected): https://drive.google.com/uc?id=1kyNC3SOjerhvGhFwsV3B3AdOUqOBBm62&confirm=t&uuid=a2cb41fa-4e4c-4c89-a5ce-08c85ae5d6cc\n",
            "To: /content/w2v_berita.model.wv.vectors.npy\n",
            "100% 180M/180M [00:01<00:00, 112MB/s]\n",
            "Downloading...\n",
            "From (original): https://drive.google.com/uc?id=11gE4o7nrT5x6FSw-cUG-XoY3FIEi52vi\n",
            "From (redirected): https://drive.google.com/uc?id=11gE4o7nrT5x6FSw-cUG-XoY3FIEi52vi&confirm=t&uuid=1ac417e2-13e7-4e26-a665-03efffaf1d65\n",
            "To: /content/w2v_berita.model.syn1neg.npy\n",
            "100% 180M/180M [00:02<00:00, 82.1MB/s]\n"
          ]
        }
      ]
    },
    {
      "cell_type": "code",
      "source": [
        "w2v_model = Word2Vec.load('w2v_berita.model')"
      ],
      "metadata": {
        "id": "UAy8WWRW2NWW"
      },
      "execution_count": null,
      "outputs": []
    },
    {
      "cell_type": "markdown",
      "source": [
        "# MODEL WORD2VEC"
      ],
      "metadata": {
        "id": "A4qZvsKG_UxS"
      }
    },
    {
      "cell_type": "code",
      "source": [
        "def feature_expansion(df,feature):\n",
        "    for col in tqdm(df.columns): #loop per kolom\n",
        "        try:\n",
        "            sim_word = w2v_model.wv.similar_by_word(col, topn = 1) #Mencari similarity berdasarkan nilai n\n",
        "        except:\n",
        "            sim_word = []\n",
        "        if sim_word != []: #jika similarity tidak kosong\n",
        "            for term in [sim_word[i][0] for i in range(len(sim_word))]: #loop per-word yang ada di Similarity\n",
        "                if term in feature:\n",
        "                    #untuk semua kolom yang mempunyai nilai 0 di kolom, tetapi mempunyai nilai yang bukan 0 pada kolom term\n",
        "                    #nilainya diganti dengan nilai kolom term yang mempunyai nilai bukan 0\n",
        "                    df[col][(df[col]==0) & (df[term]!=0)] = df[term][(df[col]==0) & (df[term]!=0)]\n",
        "    return df"
      ],
      "metadata": {
        "id": "SaObJCwa311W"
      },
      "execution_count": null,
      "outputs": []
    },
    {
      "cell_type": "code",
      "source": [
        "feature_ef = vectors.get_feature_names_out()"
      ],
      "metadata": {
        "id": "yCfc_Z9p3--g"
      },
      "execution_count": null,
      "outputs": []
    },
    {
      "cell_type": "code",
      "source": [
        "# Membuat dataframe data test & train\n",
        "df_x_train = pd.DataFrame(x_train.todense(), columns = feature_ef)\n",
        "df_x_test = pd.DataFrame(x_test.todense(), columns = feature_ef)"
      ],
      "metadata": {
        "id": "OHeAfE6S4OT4"
      },
      "execution_count": null,
      "outputs": []
    },
    {
      "cell_type": "code",
      "source": [
        "from tqdm import tqdm\n",
        "dfexp_x_train= feature_expansion(df_x_train, feature_ef)"
      ],
      "metadata": {
        "colab": {
          "base_uri": "https://localhost:8080/"
        },
        "id": "zg-xLoNG4TRo",
        "outputId": "7143ed94-4a9d-4249-bf73-14cb6d3f2f55"
      },
      "execution_count": null,
      "outputs": [
        {
          "output_type": "stream",
          "name": "stderr",
          "text": [
            "100%|██████████| 5000/5000 [01:19<00:00, 62.76it/s] \n"
          ]
        }
      ]
    },
    {
      "cell_type": "code",
      "source": [
        "dfexp_x_test = feature_expansion(df_x_test, feature_ef)"
      ],
      "metadata": {
        "id": "H14GrI-_4VgN",
        "colab": {
          "base_uri": "https://localhost:8080/"
        },
        "outputId": "f898ba7c-44ff-4671-a81c-2636d1507936"
      },
      "execution_count": null,
      "outputs": [
        {
          "output_type": "stream",
          "name": "stderr",
          "text": [
            "100%|██████████| 5000/5000 [01:09<00:00, 71.94it/s]\n"
          ]
        }
      ]
    },
    {
      "cell_type": "code",
      "source": [
        "x_train_model = np.expand_dims(dfexp_x_train,1)\n",
        "x_test_model =np.expand_dims(dfexp_x_test,1)"
      ],
      "metadata": {
        "id": "nGxFfOq04XTW"
      },
      "execution_count": null,
      "outputs": []
    },
    {
      "cell_type": "code",
      "source": [
        "y_train = pd.get_dummies(y_train).values\n",
        "y_test = pd.get_dummies(y_test).values\n",
        "y_test"
      ],
      "metadata": {
        "id": "2iZcqAw44Y-X",
        "colab": {
          "base_uri": "https://localhost:8080/"
        },
        "outputId": "927bbd1c-da2e-4a16-81d7-64907752beb6"
      },
      "execution_count": null,
      "outputs": [
        {
          "output_type": "execute_result",
          "data": {
            "text/plain": [
              "array([[0, 1],\n",
              "       [1, 0],\n",
              "       [0, 1],\n",
              "       ...,\n",
              "       [1, 0],\n",
              "       [1, 0],\n",
              "       [0, 1]], dtype=uint8)"
            ]
          },
          "metadata": {},
          "execution_count": 29
        }
      ]
    },
    {
      "cell_type": "code",
      "source": [
        "print(x_train_model.shape)"
      ],
      "metadata": {
        "id": "2na2RMU4zB8D",
        "colab": {
          "base_uri": "https://localhost:8080/"
        },
        "outputId": "bb5e0081-df55-463f-89fa-a4fb2147cfc2"
      },
      "execution_count": null,
      "outputs": [
        {
          "output_type": "stream",
          "name": "stdout",
          "text": [
            "(33651, 1, 5000)\n"
          ]
        }
      ]
    },
    {
      "cell_type": "markdown",
      "source": [
        "# GRU MODEL"
      ],
      "metadata": {
        "id": "hQkHKfEE_i3p"
      }
    },
    {
      "cell_type": "code",
      "source": [
        "from keras.layers import GRU\n",
        "from keras.models import Sequential\n",
        "from keras.layers import Dense,Bidirectional,Embedding,Dropout\n",
        "from keras.callbacks import EarlyStopping, ModelCheckpoint\n",
        "from sklearn.metrics import classification_report, confusion_matrix, accuracy_score, precision_score, recall_score, f1_score\n",
        "import matplotlib.pyplot as plt\n",
        "# model\n",
        "# del model\n",
        "def GRU_model(x_train_c, y_train_c, x_test_c, y_test_c):\n",
        "    input_shape = x_train_c.shape\n",
        "    print(\"Shape of x_train_c:\", x_train_c.shape)\n",
        "\n",
        "\n",
        "    model2 = Sequential()\n",
        "    model2.add(GRU(256, return_sequences=True, activation='relu'))\n",
        "    model2.add(Dropout(0.5))\n",
        "    model2.add(GRU(128, return_sequences=True, activation='relu'))\n",
        "    model2.add(Dropout(0.5))\n",
        "    model2.add(GRU(64, return_sequences=False, activation='relu'))\n",
        "    model2.add(Dropout(0.5))\n",
        "    #model2.add(Dense(64,activation='tanh'))\n",
        "    #model2.add(Dense(64,activation='tanh'))\n",
        "    #model2.add(Dense(10,activation='tanh'))\n",
        "    model2.add(Dense(2,activation='softmax'))\n",
        "    model2.compile(optimizer='rmsprop',loss='categorical_crossentropy',metrics=['accuracy'])\n",
        "    model2.build(input_shape)\n",
        "\n",
        "    batch_size = 128\n",
        "\n",
        "    es = EarlyStopping(monitor = 'val_loss', mode = 'min', verbose = 1, patience = 5)\n",
        "    mc = ModelCheckpoint('./model.h5', monitor = 'val_accuracy', mode = 'max', verbose = 1, save_best_only = True)\n",
        "\n",
        "    history = model2.fit(x_train_c, y_train_c, epochs = 10, batch_size=batch_size,\n",
        "              validation_data=(x_test_c, y_test_c), verbose = 1,\n",
        "              callbacks=[EarlyStopping(monitor='val_loss', patience=5, min_delta=0.0001)])\n",
        "\n",
        "    y_pred = model2.predict(x_test_c)\n",
        "    y_pred_cat = y_pred.argmax(axis=1)\n",
        "    y_test_cat = np.argmax(y_test_c, axis=1)\n",
        "\n",
        "    acc = accuracy_score(y_test_cat, y_pred_cat)\n",
        "    f1 = f1_score(y_test_cat, y_pred_cat,  average=\"macro\")\n",
        "    recall = recall_score(y_test_cat, y_pred_cat, average=\"macro\")\n",
        "    prec = precision_score(y_test_cat, y_pred_cat, average=\"macro\")\n",
        "\n",
        "    print(accuracy_score(y_test_cat, y_pred_cat))\n",
        "    print(classification_report(y_test_cat, y_pred_cat))\n",
        "    print(\"Precision: \",precision_score(y_test_cat, y_pred_cat, average=\"macro\"))\n",
        "    print(\"Recall: \",recall_score(y_test_cat, y_pred_cat, average=\"macro\"))\n",
        "    print(\"F1: \",f1_score(y_test_cat, y_pred_cat,  average=\"macro\"))\n",
        "    print(\"Accuracy: \",accuracy_score(y_test_cat, y_pred_cat))\n",
        "\n",
        "    return [acc, f1, recall, prec]\n"
      ],
      "metadata": {
        "id": "xlgcmW8P4eL_"
      },
      "execution_count": null,
      "outputs": []
    },
    {
      "cell_type": "code",
      "source": [
        "GRU_model(x_train_model, y_train, x_test_model, y_test)"
      ],
      "metadata": {
        "id": "kBQ-_1n25quC",
        "colab": {
          "base_uri": "https://localhost:8080/"
        },
        "outputId": "4a9b0c4a-5e7f-49b7-a927-c484779e2a51"
      },
      "execution_count": null,
      "outputs": [
        {
          "output_type": "stream",
          "name": "stdout",
          "text": [
            "Shape of x_train_c: (33651, 1, 5000)\n",
            "Epoch 1/10\n",
            "263/263 [==============================] - 31s 100ms/step - loss: 0.6776 - accuracy: 0.5844 - val_loss: 0.6633 - val_accuracy: 0.5824\n",
            "Epoch 2/10\n",
            "263/263 [==============================] - 31s 117ms/step - loss: 0.5318 - accuracy: 0.7294 - val_loss: 0.4295 - val_accuracy: 0.8171\n",
            "Epoch 3/10\n",
            "263/263 [==============================] - 28s 108ms/step - loss: 0.4247 - accuracy: 0.8169 - val_loss: 0.4040 - val_accuracy: 0.8249\n",
            "Epoch 4/10\n",
            "263/263 [==============================] - 25s 97ms/step - loss: 0.3968 - accuracy: 0.8357 - val_loss: 0.3979 - val_accuracy: 0.8278\n",
            "Epoch 5/10\n",
            "263/263 [==============================] - 26s 100ms/step - loss: 0.3791 - accuracy: 0.8431 - val_loss: 0.3980 - val_accuracy: 0.8286\n",
            "Epoch 6/10\n",
            "263/263 [==============================] - 26s 100ms/step - loss: 0.3630 - accuracy: 0.8529 - val_loss: 0.4028 - val_accuracy: 0.8251\n",
            "Epoch 7/10\n",
            "263/263 [==============================] - 28s 108ms/step - loss: 0.3522 - accuracy: 0.8603 - val_loss: 0.3985 - val_accuracy: 0.8305\n",
            "Epoch 8/10\n",
            "263/263 [==============================] - 26s 101ms/step - loss: 0.3401 - accuracy: 0.8664 - val_loss: 0.3996 - val_accuracy: 0.8291\n",
            "Epoch 9/10\n",
            "263/263 [==============================] - 27s 104ms/step - loss: 0.3273 - accuracy: 0.8727 - val_loss: 0.3996 - val_accuracy: 0.8286\n",
            "117/117 [==============================] - 2s 14ms/step\n",
            "0.8286096256684492\n",
            "              precision    recall  f1-score   support\n",
            "\n",
            "           0       0.80      0.79      0.79      1562\n",
            "           1       0.85      0.86      0.85      2178\n",
            "\n",
            "    accuracy                           0.83      3740\n",
            "   macro avg       0.82      0.82      0.82      3740\n",
            "weighted avg       0.83      0.83      0.83      3740\n",
            "\n",
            "Precision:  0.8241198818514966\n",
            "Recall:  0.822970421241868\n",
            "F1:  0.823522245226593\n",
            "Accuracy:  0.8286096256684492\n"
          ]
        },
        {
          "output_type": "execute_result",
          "data": {
            "text/plain": [
              "[0.8286096256684492, 0.823522245226593, 0.822970421241868, 0.8241198818514966]"
            ]
          },
          "metadata": {},
          "execution_count": 32
        }
      ]
    },
    {
      "cell_type": "code",
      "source": [
        "%%time\n",
        "hasil = []\n",
        "\n",
        "# looping dari 1 - 5 (5 kali run)\n",
        "for i in range(1,6):\n",
        "    hasil.append([str(i)] + GRU_model(x_train_model, y_train, x_test_model, y_test))"
      ],
      "metadata": {
        "id": "YvjykC8XVq86",
        "colab": {
          "base_uri": "https://localhost:8080/"
        },
        "outputId": "78592885-9a14-4437-f09a-d6f1a9c8eca4"
      },
      "execution_count": null,
      "outputs": [
        {
          "output_type": "stream",
          "name": "stdout",
          "text": [
            "Shape of x_train_c: (33651, 1, 5000)\n",
            "Epoch 1/10\n",
            "263/263 [==============================] - 31s 97ms/step - loss: 0.6731 - accuracy: 0.5858 - val_loss: 0.6253 - val_accuracy: 0.6021\n",
            "Epoch 2/10\n",
            "263/263 [==============================] - 27s 103ms/step - loss: 0.5045 - accuracy: 0.7594 - val_loss: 0.4167 - val_accuracy: 0.8243\n",
            "Epoch 3/10\n",
            "263/263 [==============================] - 25s 96ms/step - loss: 0.4191 - accuracy: 0.8189 - val_loss: 0.4015 - val_accuracy: 0.8283\n",
            "Epoch 4/10\n",
            "263/263 [==============================] - 26s 101ms/step - loss: 0.3956 - accuracy: 0.8352 - val_loss: 0.3985 - val_accuracy: 0.8299\n",
            "Epoch 5/10\n",
            "263/263 [==============================] - 25s 97ms/step - loss: 0.3769 - accuracy: 0.8462 - val_loss: 0.3988 - val_accuracy: 0.8275\n",
            "Epoch 6/10\n",
            "263/263 [==============================] - 26s 99ms/step - loss: 0.3609 - accuracy: 0.8557 - val_loss: 0.4021 - val_accuracy: 0.8214\n",
            "Epoch 7/10\n",
            "263/263 [==============================] - 26s 97ms/step - loss: 0.3471 - accuracy: 0.8623 - val_loss: 0.4125 - val_accuracy: 0.8150\n",
            "Epoch 8/10\n",
            "263/263 [==============================] - 27s 101ms/step - loss: 0.3371 - accuracy: 0.8693 - val_loss: 0.4012 - val_accuracy: 0.8289\n",
            "Epoch 9/10\n",
            "263/263 [==============================] - 27s 103ms/step - loss: 0.3251 - accuracy: 0.8724 - val_loss: 0.4002 - val_accuracy: 0.8294\n",
            "117/117 [==============================] - 2s 13ms/step\n",
            "0.8294117647058824\n",
            "              precision    recall  f1-score   support\n",
            "\n",
            "           0       0.79      0.80      0.80      1562\n",
            "           1       0.86      0.85      0.85      2178\n",
            "\n",
            "    accuracy                           0.83      3740\n",
            "   macro avg       0.82      0.83      0.82      3740\n",
            "weighted avg       0.83      0.83      0.83      3740\n",
            "\n",
            "Precision:  0.8244636883887964\n",
            "Recall:  0.8253792728824739\n",
            "F1:  0.8249053391646364\n",
            "Accuracy:  0.8294117647058824\n",
            "Shape of x_train_c: (33651, 1, 5000)\n",
            "Epoch 1/10\n",
            "263/263 [==============================] - 33s 106ms/step - loss: 0.6665 - accuracy: 0.5920 - val_loss: 0.5852 - val_accuracy: 0.7436\n",
            "Epoch 2/10\n",
            "263/263 [==============================] - 28s 108ms/step - loss: 0.4897 - accuracy: 0.7760 - val_loss: 0.4248 - val_accuracy: 0.8179\n",
            "Epoch 3/10\n",
            "263/263 [==============================] - 27s 102ms/step - loss: 0.4175 - accuracy: 0.8201 - val_loss: 0.4098 - val_accuracy: 0.8211\n",
            "Epoch 4/10\n",
            "263/263 [==============================] - 27s 103ms/step - loss: 0.3899 - accuracy: 0.8380 - val_loss: 0.4010 - val_accuracy: 0.8259\n",
            "Epoch 5/10\n",
            "263/263 [==============================] - 27s 103ms/step - loss: 0.3760 - accuracy: 0.8457 - val_loss: 0.4032 - val_accuracy: 0.8254\n",
            "Epoch 6/10\n",
            "263/263 [==============================] - 28s 106ms/step - loss: 0.3627 - accuracy: 0.8543 - val_loss: 0.3977 - val_accuracy: 0.8257\n",
            "Epoch 7/10\n",
            "263/263 [==============================] - 27s 102ms/step - loss: 0.3483 - accuracy: 0.8628 - val_loss: 0.3966 - val_accuracy: 0.8307\n",
            "Epoch 8/10\n",
            "263/263 [==============================] - 28s 105ms/step - loss: 0.3370 - accuracy: 0.8680 - val_loss: 0.3960 - val_accuracy: 0.8289\n",
            "Epoch 9/10\n",
            "263/263 [==============================] - 35s 134ms/step - loss: 0.3265 - accuracy: 0.8736 - val_loss: 0.3942 - val_accuracy: 0.8318\n",
            "Epoch 10/10\n",
            "263/263 [==============================] - 29s 111ms/step - loss: 0.3140 - accuracy: 0.8805 - val_loss: 0.3955 - val_accuracy: 0.8313\n",
            "117/117 [==============================] - 2s 12ms/step\n",
            "0.8312834224598931\n",
            "              precision    recall  f1-score   support\n",
            "\n",
            "           0       0.78      0.83      0.80      1562\n",
            "           1       0.87      0.83      0.85      2178\n",
            "\n",
            "    accuracy                           0.83      3740\n",
            "   macro avg       0.83      0.83      0.83      3740\n",
            "weighted avg       0.83      0.83      0.83      3740\n",
            "\n",
            "Precision:  0.8261533658884652\n",
            "Recall:  0.8310602827248154\n",
            "F1:  0.8279966102809185\n",
            "Accuracy:  0.8312834224598931\n",
            "Shape of x_train_c: (33651, 1, 5000)\n",
            "Epoch 1/10\n",
            "263/263 [==============================] - 34s 109ms/step - loss: 0.6729 - accuracy: 0.5852 - val_loss: 0.6254 - val_accuracy: 0.5944\n",
            "Epoch 2/10\n",
            "263/263 [==============================] - 28s 106ms/step - loss: 0.5044 - accuracy: 0.7612 - val_loss: 0.4234 - val_accuracy: 0.8147\n",
            "Epoch 3/10\n",
            "263/263 [==============================] - 31s 117ms/step - loss: 0.4204 - accuracy: 0.8199 - val_loss: 0.4047 - val_accuracy: 0.8241\n",
            "Epoch 4/10\n",
            "263/263 [==============================] - 29s 111ms/step - loss: 0.3914 - accuracy: 0.8366 - val_loss: 0.3983 - val_accuracy: 0.8275\n",
            "Epoch 5/10\n",
            "263/263 [==============================] - 28s 105ms/step - loss: 0.3762 - accuracy: 0.8468 - val_loss: 0.3955 - val_accuracy: 0.8324\n",
            "Epoch 6/10\n",
            "263/263 [==============================] - 28s 106ms/step - loss: 0.3606 - accuracy: 0.8539 - val_loss: 0.3986 - val_accuracy: 0.8259\n",
            "Epoch 7/10\n",
            "263/263 [==============================] - 27s 101ms/step - loss: 0.3501 - accuracy: 0.8614 - val_loss: 0.3934 - val_accuracy: 0.8321\n",
            "Epoch 8/10\n",
            "263/263 [==============================] - 27s 104ms/step - loss: 0.3371 - accuracy: 0.8676 - val_loss: 0.3993 - val_accuracy: 0.8291\n",
            "Epoch 9/10\n",
            "263/263 [==============================] - 27s 103ms/step - loss: 0.3236 - accuracy: 0.8741 - val_loss: 0.3987 - val_accuracy: 0.8286\n",
            "Epoch 10/10\n",
            "263/263 [==============================] - 30s 113ms/step - loss: 0.3123 - accuracy: 0.8783 - val_loss: 0.3997 - val_accuracy: 0.8307\n",
            "117/117 [==============================] - 2s 12ms/step\n",
            "0.8307486631016042\n",
            "              precision    recall  f1-score   support\n",
            "\n",
            "           0       0.78      0.83      0.80      1562\n",
            "           1       0.87      0.83      0.85      2178\n",
            "\n",
            "    accuracy                           0.83      3740\n",
            "   macro avg       0.83      0.83      0.83      3740\n",
            "weighted avg       0.83      0.83      0.83      3740\n",
            "\n",
            "Precision:  0.8256592870415991\n",
            "Recall:  0.8308727479662179\n",
            "F1:  0.8275545963843587\n",
            "Accuracy:  0.8307486631016042\n",
            "Shape of x_train_c: (33651, 1, 5000)\n",
            "Epoch 1/10\n",
            "263/263 [==============================] - 33s 110ms/step - loss: 0.6779 - accuracy: 0.5851 - val_loss: 0.6687 - val_accuracy: 0.5824\n",
            "Epoch 2/10\n",
            "263/263 [==============================] - 27s 101ms/step - loss: 0.5559 - accuracy: 0.7054 - val_loss: 0.4339 - val_accuracy: 0.8099\n",
            "Epoch 3/10\n",
            "263/263 [==============================] - 26s 99ms/step - loss: 0.4324 - accuracy: 0.8138 - val_loss: 0.4085 - val_accuracy: 0.8243\n",
            "Epoch 4/10\n",
            "263/263 [==============================] - 27s 103ms/step - loss: 0.3982 - accuracy: 0.8354 - val_loss: 0.4059 - val_accuracy: 0.8259\n",
            "Epoch 5/10\n",
            "263/263 [==============================] - 26s 101ms/step - loss: 0.3818 - accuracy: 0.8424 - val_loss: 0.3954 - val_accuracy: 0.8265\n",
            "Epoch 6/10\n",
            "263/263 [==============================] - 27s 102ms/step - loss: 0.3669 - accuracy: 0.8519 - val_loss: 0.3950 - val_accuracy: 0.8294\n",
            "Epoch 7/10\n",
            "263/263 [==============================] - 26s 98ms/step - loss: 0.3556 - accuracy: 0.8603 - val_loss: 0.3969 - val_accuracy: 0.8305\n",
            "Epoch 8/10\n",
            "263/263 [==============================] - 27s 103ms/step - loss: 0.3418 - accuracy: 0.8667 - val_loss: 0.3979 - val_accuracy: 0.8294\n",
            "Epoch 9/10\n",
            "263/263 [==============================] - 35s 133ms/step - loss: 0.3291 - accuracy: 0.8727 - val_loss: 0.3925 - val_accuracy: 0.8310\n",
            "Epoch 10/10\n",
            "263/263 [==============================] - 26s 99ms/step - loss: 0.3176 - accuracy: 0.8775 - val_loss: 0.3970 - val_accuracy: 0.8273\n",
            "117/117 [==============================] - 2s 12ms/step\n",
            "0.8272727272727273\n",
            "              precision    recall  f1-score   support\n",
            "\n",
            "           0       0.79      0.79      0.79      1562\n",
            "           1       0.85      0.85      0.85      2178\n",
            "\n",
            "    accuracy                           0.83      3740\n",
            "   macro avg       0.82      0.82      0.82      3740\n",
            "weighted avg       0.83      0.83      0.83      3740\n",
            "\n",
            "Precision:  0.8224563173346784\n",
            "Recall:  0.8224563173346784\n",
            "F1:  0.8224563173346784\n",
            "Accuracy:  0.8272727272727273\n",
            "Shape of x_train_c: (33651, 1, 5000)\n",
            "Epoch 1/10\n",
            "263/263 [==============================] - 33s 108ms/step - loss: 0.6763 - accuracy: 0.5844 - val_loss: 0.6537 - val_accuracy: 0.5824\n",
            "Epoch 2/10\n",
            "263/263 [==============================] - 27s 103ms/step - loss: 0.5246 - accuracy: 0.7401 - val_loss: 0.4229 - val_accuracy: 0.8160\n",
            "Epoch 3/10\n",
            "263/263 [==============================] - 28s 106ms/step - loss: 0.4227 - accuracy: 0.8172 - val_loss: 0.4074 - val_accuracy: 0.8225\n",
            "Epoch 4/10\n",
            "263/263 [==============================] - 27s 103ms/step - loss: 0.3973 - accuracy: 0.8334 - val_loss: 0.3979 - val_accuracy: 0.8291\n",
            "Epoch 5/10\n",
            "263/263 [==============================] - 26s 100ms/step - loss: 0.3767 - accuracy: 0.8468 - val_loss: 0.3956 - val_accuracy: 0.8310\n",
            "Epoch 6/10\n",
            "263/263 [==============================] - 27s 102ms/step - loss: 0.3618 - accuracy: 0.8521 - val_loss: 0.3983 - val_accuracy: 0.8254\n",
            "Epoch 7/10\n",
            "263/263 [==============================] - 27s 103ms/step - loss: 0.3520 - accuracy: 0.8596 - val_loss: 0.3993 - val_accuracy: 0.8259\n",
            "Epoch 8/10\n",
            "263/263 [==============================] - 27s 103ms/step - loss: 0.3394 - accuracy: 0.8660 - val_loss: 0.3969 - val_accuracy: 0.8302\n",
            "Epoch 9/10\n",
            "263/263 [==============================] - 28s 106ms/step - loss: 0.3254 - accuracy: 0.8734 - val_loss: 0.3977 - val_accuracy: 0.8286\n",
            "Epoch 10/10\n",
            "263/263 [==============================] - 28s 108ms/step - loss: 0.3144 - accuracy: 0.8787 - val_loss: 0.3972 - val_accuracy: 0.8348\n",
            "117/117 [==============================] - 2s 12ms/step\n",
            "0.83475935828877\n",
            "              precision    recall  f1-score   support\n",
            "\n",
            "           0       0.79      0.83      0.81      1562\n",
            "           1       0.87      0.84      0.86      2178\n",
            "\n",
            "    accuracy                           0.83      3740\n",
            "   macro avg       0.83      0.83      0.83      3740\n",
            "weighted avg       0.84      0.83      0.84      3740\n",
            "\n",
            "Precision:  0.8296387520525452\n",
            "Recall:  0.8342257401156249\n",
            "F1:  0.8314249280354846\n",
            "Accuracy:  0.83475935828877\n",
            "CPU times: user 34min 20s, sys: 2min 4s, total: 36min 25s\n",
            "Wall time: 26min 8s\n"
          ]
        }
      ]
    },
    {
      "cell_type": "code",
      "source": [
        "df = pd.DataFrame(hasil, columns =['itr', 'acc', 'f1', 'recall', 'precision'])\n",
        "df"
      ],
      "metadata": {
        "id": "KyFeugT7Vq43",
        "colab": {
          "base_uri": "https://localhost:8080/",
          "height": 226
        },
        "outputId": "f5a81627-2591-4c2d-82e1-afd476f5bacf"
      },
      "execution_count": null,
      "outputs": [
        {
          "output_type": "execute_result",
          "data": {
            "text/plain": [
              "  itr       acc        f1    recall  precision\n",
              "0   1  0.829412  0.824905  0.825379   0.824464\n",
              "1   2  0.831283  0.827997  0.831060   0.826153\n",
              "2   3  0.830749  0.827555  0.830873   0.825659\n",
              "3   4  0.827273  0.822456  0.822456   0.822456\n",
              "4   5  0.834759  0.831425  0.834226   0.829639"
            ],
            "text/html": [
              "\n",
              "  <div id=\"df-081f93fd-be3e-4583-ae29-c6fed5221696\" class=\"colab-df-container\">\n",
              "    <div>\n",
              "<style scoped>\n",
              "    .dataframe tbody tr th:only-of-type {\n",
              "        vertical-align: middle;\n",
              "    }\n",
              "\n",
              "    .dataframe tbody tr th {\n",
              "        vertical-align: top;\n",
              "    }\n",
              "\n",
              "    .dataframe thead th {\n",
              "        text-align: right;\n",
              "    }\n",
              "</style>\n",
              "<table border=\"1\" class=\"dataframe\">\n",
              "  <thead>\n",
              "    <tr style=\"text-align: right;\">\n",
              "      <th></th>\n",
              "      <th>itr</th>\n",
              "      <th>acc</th>\n",
              "      <th>f1</th>\n",
              "      <th>recall</th>\n",
              "      <th>precision</th>\n",
              "    </tr>\n",
              "  </thead>\n",
              "  <tbody>\n",
              "    <tr>\n",
              "      <th>0</th>\n",
              "      <td>1</td>\n",
              "      <td>0.829412</td>\n",
              "      <td>0.824905</td>\n",
              "      <td>0.825379</td>\n",
              "      <td>0.824464</td>\n",
              "    </tr>\n",
              "    <tr>\n",
              "      <th>1</th>\n",
              "      <td>2</td>\n",
              "      <td>0.831283</td>\n",
              "      <td>0.827997</td>\n",
              "      <td>0.831060</td>\n",
              "      <td>0.826153</td>\n",
              "    </tr>\n",
              "    <tr>\n",
              "      <th>2</th>\n",
              "      <td>3</td>\n",
              "      <td>0.830749</td>\n",
              "      <td>0.827555</td>\n",
              "      <td>0.830873</td>\n",
              "      <td>0.825659</td>\n",
              "    </tr>\n",
              "    <tr>\n",
              "      <th>3</th>\n",
              "      <td>4</td>\n",
              "      <td>0.827273</td>\n",
              "      <td>0.822456</td>\n",
              "      <td>0.822456</td>\n",
              "      <td>0.822456</td>\n",
              "    </tr>\n",
              "    <tr>\n",
              "      <th>4</th>\n",
              "      <td>5</td>\n",
              "      <td>0.834759</td>\n",
              "      <td>0.831425</td>\n",
              "      <td>0.834226</td>\n",
              "      <td>0.829639</td>\n",
              "    </tr>\n",
              "  </tbody>\n",
              "</table>\n",
              "</div>\n",
              "    <div class=\"colab-df-buttons\">\n",
              "\n",
              "  <div class=\"colab-df-container\">\n",
              "    <button class=\"colab-df-convert\" onclick=\"convertToInteractive('df-081f93fd-be3e-4583-ae29-c6fed5221696')\"\n",
              "            title=\"Convert this dataframe to an interactive table.\"\n",
              "            style=\"display:none;\">\n",
              "\n",
              "  <svg xmlns=\"http://www.w3.org/2000/svg\" height=\"24px\" viewBox=\"0 -960 960 960\">\n",
              "    <path d=\"M120-120v-720h720v720H120Zm60-500h600v-160H180v160Zm220 220h160v-160H400v160Zm0 220h160v-160H400v160ZM180-400h160v-160H180v160Zm440 0h160v-160H620v160ZM180-180h160v-160H180v160Zm440 0h160v-160H620v160Z\"/>\n",
              "  </svg>\n",
              "    </button>\n",
              "\n",
              "  <style>\n",
              "    .colab-df-container {\n",
              "      display:flex;\n",
              "      gap: 12px;\n",
              "    }\n",
              "\n",
              "    .colab-df-convert {\n",
              "      background-color: #E8F0FE;\n",
              "      border: none;\n",
              "      border-radius: 50%;\n",
              "      cursor: pointer;\n",
              "      display: none;\n",
              "      fill: #1967D2;\n",
              "      height: 32px;\n",
              "      padding: 0 0 0 0;\n",
              "      width: 32px;\n",
              "    }\n",
              "\n",
              "    .colab-df-convert:hover {\n",
              "      background-color: #E2EBFA;\n",
              "      box-shadow: 0px 1px 2px rgba(60, 64, 67, 0.3), 0px 1px 3px 1px rgba(60, 64, 67, 0.15);\n",
              "      fill: #174EA6;\n",
              "    }\n",
              "\n",
              "    .colab-df-buttons div {\n",
              "      margin-bottom: 4px;\n",
              "    }\n",
              "\n",
              "    [theme=dark] .colab-df-convert {\n",
              "      background-color: #3B4455;\n",
              "      fill: #D2E3FC;\n",
              "    }\n",
              "\n",
              "    [theme=dark] .colab-df-convert:hover {\n",
              "      background-color: #434B5C;\n",
              "      box-shadow: 0px 1px 3px 1px rgba(0, 0, 0, 0.15);\n",
              "      filter: drop-shadow(0px 1px 2px rgba(0, 0, 0, 0.3));\n",
              "      fill: #FFFFFF;\n",
              "    }\n",
              "  </style>\n",
              "\n",
              "    <script>\n",
              "      const buttonEl =\n",
              "        document.querySelector('#df-081f93fd-be3e-4583-ae29-c6fed5221696 button.colab-df-convert');\n",
              "      buttonEl.style.display =\n",
              "        google.colab.kernel.accessAllowed ? 'block' : 'none';\n",
              "\n",
              "      async function convertToInteractive(key) {\n",
              "        const element = document.querySelector('#df-081f93fd-be3e-4583-ae29-c6fed5221696');\n",
              "        const dataTable =\n",
              "          await google.colab.kernel.invokeFunction('convertToInteractive',\n",
              "                                                    [key], {});\n",
              "        if (!dataTable) return;\n",
              "\n",
              "        const docLinkHtml = 'Like what you see? Visit the ' +\n",
              "          '<a target=\"_blank\" href=https://colab.research.google.com/notebooks/data_table.ipynb>data table notebook</a>'\n",
              "          + ' to learn more about interactive tables.';\n",
              "        element.innerHTML = '';\n",
              "        dataTable['output_type'] = 'display_data';\n",
              "        await google.colab.output.renderOutput(dataTable, element);\n",
              "        const docLink = document.createElement('div');\n",
              "        docLink.innerHTML = docLinkHtml;\n",
              "        element.appendChild(docLink);\n",
              "      }\n",
              "    </script>\n",
              "  </div>\n",
              "\n",
              "\n",
              "<div id=\"df-8121c89d-eb4e-4155-8187-9bc18afd2086\">\n",
              "  <button class=\"colab-df-quickchart\" onclick=\"quickchart('df-8121c89d-eb4e-4155-8187-9bc18afd2086')\"\n",
              "            title=\"Suggest charts\"\n",
              "            style=\"display:none;\">\n",
              "\n",
              "<svg xmlns=\"http://www.w3.org/2000/svg\" height=\"24px\"viewBox=\"0 0 24 24\"\n",
              "     width=\"24px\">\n",
              "    <g>\n",
              "        <path d=\"M19 3H5c-1.1 0-2 .9-2 2v14c0 1.1.9 2 2 2h14c1.1 0 2-.9 2-2V5c0-1.1-.9-2-2-2zM9 17H7v-7h2v7zm4 0h-2V7h2v10zm4 0h-2v-4h2v4z\"/>\n",
              "    </g>\n",
              "</svg>\n",
              "  </button>\n",
              "\n",
              "<style>\n",
              "  .colab-df-quickchart {\n",
              "      --bg-color: #E8F0FE;\n",
              "      --fill-color: #1967D2;\n",
              "      --hover-bg-color: #E2EBFA;\n",
              "      --hover-fill-color: #174EA6;\n",
              "      --disabled-fill-color: #AAA;\n",
              "      --disabled-bg-color: #DDD;\n",
              "  }\n",
              "\n",
              "  [theme=dark] .colab-df-quickchart {\n",
              "      --bg-color: #3B4455;\n",
              "      --fill-color: #D2E3FC;\n",
              "      --hover-bg-color: #434B5C;\n",
              "      --hover-fill-color: #FFFFFF;\n",
              "      --disabled-bg-color: #3B4455;\n",
              "      --disabled-fill-color: #666;\n",
              "  }\n",
              "\n",
              "  .colab-df-quickchart {\n",
              "    background-color: var(--bg-color);\n",
              "    border: none;\n",
              "    border-radius: 50%;\n",
              "    cursor: pointer;\n",
              "    display: none;\n",
              "    fill: var(--fill-color);\n",
              "    height: 32px;\n",
              "    padding: 0;\n",
              "    width: 32px;\n",
              "  }\n",
              "\n",
              "  .colab-df-quickchart:hover {\n",
              "    background-color: var(--hover-bg-color);\n",
              "    box-shadow: 0 1px 2px rgba(60, 64, 67, 0.3), 0 1px 3px 1px rgba(60, 64, 67, 0.15);\n",
              "    fill: var(--button-hover-fill-color);\n",
              "  }\n",
              "\n",
              "  .colab-df-quickchart-complete:disabled,\n",
              "  .colab-df-quickchart-complete:disabled:hover {\n",
              "    background-color: var(--disabled-bg-color);\n",
              "    fill: var(--disabled-fill-color);\n",
              "    box-shadow: none;\n",
              "  }\n",
              "\n",
              "  .colab-df-spinner {\n",
              "    border: 2px solid var(--fill-color);\n",
              "    border-color: transparent;\n",
              "    border-bottom-color: var(--fill-color);\n",
              "    animation:\n",
              "      spin 1s steps(1) infinite;\n",
              "  }\n",
              "\n",
              "  @keyframes spin {\n",
              "    0% {\n",
              "      border-color: transparent;\n",
              "      border-bottom-color: var(--fill-color);\n",
              "      border-left-color: var(--fill-color);\n",
              "    }\n",
              "    20% {\n",
              "      border-color: transparent;\n",
              "      border-left-color: var(--fill-color);\n",
              "      border-top-color: var(--fill-color);\n",
              "    }\n",
              "    30% {\n",
              "      border-color: transparent;\n",
              "      border-left-color: var(--fill-color);\n",
              "      border-top-color: var(--fill-color);\n",
              "      border-right-color: var(--fill-color);\n",
              "    }\n",
              "    40% {\n",
              "      border-color: transparent;\n",
              "      border-right-color: var(--fill-color);\n",
              "      border-top-color: var(--fill-color);\n",
              "    }\n",
              "    60% {\n",
              "      border-color: transparent;\n",
              "      border-right-color: var(--fill-color);\n",
              "    }\n",
              "    80% {\n",
              "      border-color: transparent;\n",
              "      border-right-color: var(--fill-color);\n",
              "      border-bottom-color: var(--fill-color);\n",
              "    }\n",
              "    90% {\n",
              "      border-color: transparent;\n",
              "      border-bottom-color: var(--fill-color);\n",
              "    }\n",
              "  }\n",
              "</style>\n",
              "\n",
              "  <script>\n",
              "    async function quickchart(key) {\n",
              "      const quickchartButtonEl =\n",
              "        document.querySelector('#' + key + ' button');\n",
              "      quickchartButtonEl.disabled = true;  // To prevent multiple clicks.\n",
              "      quickchartButtonEl.classList.add('colab-df-spinner');\n",
              "      try {\n",
              "        const charts = await google.colab.kernel.invokeFunction(\n",
              "            'suggestCharts', [key], {});\n",
              "      } catch (error) {\n",
              "        console.error('Error during call to suggestCharts:', error);\n",
              "      }\n",
              "      quickchartButtonEl.classList.remove('colab-df-spinner');\n",
              "      quickchartButtonEl.classList.add('colab-df-quickchart-complete');\n",
              "    }\n",
              "    (() => {\n",
              "      let quickchartButtonEl =\n",
              "        document.querySelector('#df-8121c89d-eb4e-4155-8187-9bc18afd2086 button');\n",
              "      quickchartButtonEl.style.display =\n",
              "        google.colab.kernel.accessAllowed ? 'block' : 'none';\n",
              "    })();\n",
              "  </script>\n",
              "</div>\n",
              "    </div>\n",
              "  </div>\n"
            ]
          },
          "metadata": {},
          "execution_count": 34
        }
      ]
    },
    {
      "cell_type": "code",
      "source": [
        "print(\"Accuracy : %.2f\" % (df['acc'].mean()*100))\n",
        "print(\"F1-Score : %.2f\" % (df['f1'].mean()*100))"
      ],
      "metadata": {
        "id": "5oRH5SbCVq0q",
        "colab": {
          "base_uri": "https://localhost:8080/"
        },
        "outputId": "8c1f0245-b3cf-4dea-b72c-2061eeb9a9ba"
      },
      "execution_count": null,
      "outputs": [
        {
          "output_type": "stream",
          "name": "stdout",
          "text": [
            "Accuracy : 83.07\n",
            "F1-Score : 82.69\n"
          ]
        }
      ]
    }
  ]
}
